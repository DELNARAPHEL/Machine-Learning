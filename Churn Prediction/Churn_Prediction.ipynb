{
 "cells": [
  {
   "cell_type": "code",
   "execution_count": 1,
   "id": "ab0ce3d3",
   "metadata": {},
   "outputs": [],
   "source": []
  },
  {
   "cell_type": "markdown",
   "id": "e67ca1f8",
   "metadata": {},
   "source": [
    "## 1. Loading the dataset into python environment"
   ]
  },
  {
   "cell_type": "code",
   "execution_count": 3,
   "id": "7383d0cc",
   "metadata": {},
   "outputs": [],
   "source": [
    "#reading the data into python environment and assigning the index column as 'ID'.\n",
    "\n",
    "#train dataset\n",
    "train=pd.read_csv('train_PDjVQMB.csv',index_col='ID')\n",
    "\n",
    "#test dataset\n",
    "test=pd.read_csv('test_lTY72QC.csv',index_col='ID')\n",
    "\n",
    "#sample submission dataset\n",
    "sam=pd.read_csv('sample_OoSmYo5.csv',index_col=\"ID\")"
   ]
  },
  {
   "cell_type": "code",
   "execution_count": 4,
   "id": "80bdc994",
   "metadata": {},
   "outputs": [
    {
     "data": {
      "text/html": [
       "<div>\n",
       "<style scoped>\n",
       "    .dataframe tbody tr th:only-of-type {\n",
       "        vertical-align: middle;\n",
       "    }\n",
       "\n",
       "    .dataframe tbody tr th {\n",
       "        vertical-align: top;\n",
       "    }\n",
       "\n",
       "    .dataframe thead th {\n",
       "        text-align: right;\n",
       "    }\n",
       "</style>\n",
       "<table border=\"1\" class=\"dataframe\">\n",
       "  <thead>\n",
       "    <tr style=\"text-align: right;\">\n",
       "      <th></th>\n",
       "      <th>Age</th>\n",
       "      <th>Gender</th>\n",
       "      <th>Income</th>\n",
       "      <th>Balance</th>\n",
       "      <th>Vintage</th>\n",
       "      <th>Transaction_Status</th>\n",
       "      <th>Product_Holdings</th>\n",
       "      <th>Credit_Card</th>\n",
       "      <th>Credit_Category</th>\n",
       "      <th>Is_Churn</th>\n",
       "    </tr>\n",
       "    <tr>\n",
       "      <th>ID</th>\n",
       "      <th></th>\n",
       "      <th></th>\n",
       "      <th></th>\n",
       "      <th></th>\n",
       "      <th></th>\n",
       "      <th></th>\n",
       "      <th></th>\n",
       "      <th></th>\n",
       "      <th></th>\n",
       "      <th></th>\n",
       "    </tr>\n",
       "  </thead>\n",
       "  <tbody>\n",
       "    <tr>\n",
       "      <th>84e2fcc9</th>\n",
       "      <td>36</td>\n",
       "      <td>Female</td>\n",
       "      <td>5L - 10L</td>\n",
       "      <td>563266.44</td>\n",
       "      <td>4</td>\n",
       "      <td>0</td>\n",
       "      <td>1</td>\n",
       "      <td>0</td>\n",
       "      <td>Average</td>\n",
       "      <td>1</td>\n",
       "    </tr>\n",
       "    <tr>\n",
       "      <th>57fea15e</th>\n",
       "      <td>53</td>\n",
       "      <td>Female</td>\n",
       "      <td>Less than 5L</td>\n",
       "      <td>875572.11</td>\n",
       "      <td>2</td>\n",
       "      <td>1</td>\n",
       "      <td>1</td>\n",
       "      <td>1</td>\n",
       "      <td>Poor</td>\n",
       "      <td>0</td>\n",
       "    </tr>\n",
       "    <tr>\n",
       "      <th>8df34ef3</th>\n",
       "      <td>35</td>\n",
       "      <td>Female</td>\n",
       "      <td>More than 15L</td>\n",
       "      <td>701607.06</td>\n",
       "      <td>2</td>\n",
       "      <td>1</td>\n",
       "      <td>2</td>\n",
       "      <td>0</td>\n",
       "      <td>Poor</td>\n",
       "      <td>0</td>\n",
       "    </tr>\n",
       "    <tr>\n",
       "      <th>c5c0788b</th>\n",
       "      <td>43</td>\n",
       "      <td>Female</td>\n",
       "      <td>More than 15L</td>\n",
       "      <td>1393922.16</td>\n",
       "      <td>0</td>\n",
       "      <td>1</td>\n",
       "      <td>2</td>\n",
       "      <td>1</td>\n",
       "      <td>Poor</td>\n",
       "      <td>1</td>\n",
       "    </tr>\n",
       "    <tr>\n",
       "      <th>951d69c4</th>\n",
       "      <td>39</td>\n",
       "      <td>Female</td>\n",
       "      <td>More than 15L</td>\n",
       "      <td>893146.23</td>\n",
       "      <td>1</td>\n",
       "      <td>1</td>\n",
       "      <td>1</td>\n",
       "      <td>1</td>\n",
       "      <td>Good</td>\n",
       "      <td>1</td>\n",
       "    </tr>\n",
       "  </tbody>\n",
       "</table>\n",
       "</div>"
      ],
      "text/plain": [
       "          Age  Gender         Income     Balance  Vintage  Transaction_Status  \\\n",
       "ID                                                                              \n",
       "84e2fcc9   36  Female       5L - 10L   563266.44        4                   0   \n",
       "57fea15e   53  Female   Less than 5L   875572.11        2                   1   \n",
       "8df34ef3   35  Female  More than 15L   701607.06        2                   1   \n",
       "c5c0788b   43  Female  More than 15L  1393922.16        0                   1   \n",
       "951d69c4   39  Female  More than 15L   893146.23        1                   1   \n",
       "\n",
       "         Product_Holdings  Credit_Card Credit_Category  Is_Churn  \n",
       "ID                                                                \n",
       "84e2fcc9                1            0         Average         1  \n",
       "57fea15e                1            1            Poor         0  \n",
       "8df34ef3                2            0            Poor         0  \n",
       "c5c0788b                2            1            Poor         1  \n",
       "951d69c4                1            1            Good         1  "
      ]
     },
     "execution_count": 4,
     "metadata": {},
     "output_type": "execute_result"
    }
   ],
   "source": [
    "#displaying the train data\n",
    "train.head()"
   ]
  },
  {
   "cell_type": "code",
   "execution_count": 5,
   "id": "e65ba9db",
   "metadata": {},
   "outputs": [
    {
     "data": {
      "text/plain": [
       "Index(['Age', 'Gender', 'Income', 'Balance', 'Vintage', 'Transaction_Status',\n",
       "       'Product_Holdings', 'Credit_Card', 'Credit_Category', 'Is_Churn'],\n",
       "      dtype='object')"
      ]
     },
     "execution_count": 5,
     "metadata": {},
     "output_type": "execute_result"
    }
   ],
   "source": [
    "#displaying the column names\n",
    "train.columns"
   ]
  },
  {
   "cell_type": "code",
   "execution_count": 6,
   "id": "3454c752",
   "metadata": {},
   "outputs": [
    {
     "name": "stdout",
     "output_type": "stream",
     "text": [
      "<class 'pandas.core.frame.DataFrame'>\n",
      "Index: 6650 entries, 84e2fcc9 to 57b39511\n",
      "Data columns (total 10 columns):\n",
      " #   Column              Non-Null Count  Dtype  \n",
      "---  ------              --------------  -----  \n",
      " 0   Age                 6650 non-null   int64  \n",
      " 1   Gender              6650 non-null   object \n",
      " 2   Income              6650 non-null   object \n",
      " 3   Balance             6650 non-null   float64\n",
      " 4   Vintage             6650 non-null   int64  \n",
      " 5   Transaction_Status  6650 non-null   int64  \n",
      " 6   Product_Holdings    6650 non-null   object \n",
      " 7   Credit_Card         6650 non-null   int64  \n",
      " 8   Credit_Category     6650 non-null   object \n",
      " 9   Is_Churn            6650 non-null   int64  \n",
      "dtypes: float64(1), int64(5), object(4)\n",
      "memory usage: 571.5+ KB\n"
     ]
    }
   ],
   "source": [
    "train.info()# displaying the information of dataset"
   ]
  },
  {
   "cell_type": "markdown",
   "id": "4ea3bf53",
   "metadata": {},
   "source": [
    "- <b> There are 6650 rows and 10 columns in train data.</b>"
   ]
  },
  {
   "cell_type": "markdown",
   "id": "1251e4d5",
   "metadata": {},
   "source": [
    "## 2. Exploratory Data Analysis"
   ]
  },
  {
   "cell_type": "code",
   "execution_count": 10,
   "id": "a894bf09",
   "metadata": {},
   "outputs": [
    {
     "data": {
      "text/html": [
       "<div>\n",
       "<style scoped>\n",
       "    .dataframe tbody tr th:only-of-type {\n",
       "        vertical-align: middle;\n",
       "    }\n",
       "\n",
       "    .dataframe tbody tr th {\n",
       "        vertical-align: top;\n",
       "    }\n",
       "\n",
       "    .dataframe thead th {\n",
       "        text-align: right;\n",
       "    }\n",
       "</style>\n",
       "<table border=\"1\" class=\"dataframe\">\n",
       "  <thead>\n",
       "    <tr style=\"text-align: right;\">\n",
       "      <th></th>\n",
       "      <th>count</th>\n",
       "      <th>mean</th>\n",
       "      <th>std</th>\n",
       "      <th>min</th>\n",
       "      <th>25%</th>\n",
       "      <th>50%</th>\n",
       "      <th>75%</th>\n",
       "      <th>max</th>\n",
       "    </tr>\n",
       "  </thead>\n",
       "  <tbody>\n",
       "    <tr>\n",
       "      <th>Age</th>\n",
       "      <td>6650.0</td>\n",
       "      <td>41.130226</td>\n",
       "      <td>9.685747</td>\n",
       "      <td>21.0</td>\n",
       "      <td>34.0000</td>\n",
       "      <td>40.000</td>\n",
       "      <td>47.00</td>\n",
       "      <td>72.00</td>\n",
       "    </tr>\n",
       "    <tr>\n",
       "      <th>Balance</th>\n",
       "      <td>6650.0</td>\n",
       "      <td>804595.354985</td>\n",
       "      <td>515754.867315</td>\n",
       "      <td>63.0</td>\n",
       "      <td>392264.2125</td>\n",
       "      <td>764938.575</td>\n",
       "      <td>1147123.71</td>\n",
       "      <td>2436615.81</td>\n",
       "    </tr>\n",
       "    <tr>\n",
       "      <th>Vintage</th>\n",
       "      <td>6650.0</td>\n",
       "      <td>2.250226</td>\n",
       "      <td>1.458795</td>\n",
       "      <td>0.0</td>\n",
       "      <td>1.0000</td>\n",
       "      <td>2.000</td>\n",
       "      <td>3.00</td>\n",
       "      <td>5.00</td>\n",
       "    </tr>\n",
       "    <tr>\n",
       "      <th>Transaction_Status</th>\n",
       "      <td>6650.0</td>\n",
       "      <td>0.515789</td>\n",
       "      <td>0.499788</td>\n",
       "      <td>0.0</td>\n",
       "      <td>0.0000</td>\n",
       "      <td>1.000</td>\n",
       "      <td>1.00</td>\n",
       "      <td>1.00</td>\n",
       "    </tr>\n",
       "    <tr>\n",
       "      <th>Credit_Card</th>\n",
       "      <td>6650.0</td>\n",
       "      <td>0.664361</td>\n",
       "      <td>0.472249</td>\n",
       "      <td>0.0</td>\n",
       "      <td>0.0000</td>\n",
       "      <td>1.000</td>\n",
       "      <td>1.00</td>\n",
       "      <td>1.00</td>\n",
       "    </tr>\n",
       "    <tr>\n",
       "      <th>Is_Churn</th>\n",
       "      <td>6650.0</td>\n",
       "      <td>0.231128</td>\n",
       "      <td>0.421586</td>\n",
       "      <td>0.0</td>\n",
       "      <td>0.0000</td>\n",
       "      <td>0.000</td>\n",
       "      <td>0.00</td>\n",
       "      <td>1.00</td>\n",
       "    </tr>\n",
       "  </tbody>\n",
       "</table>\n",
       "</div>"
      ],
      "text/plain": [
       "                     count           mean            std   min          25%  \\\n",
       "Age                 6650.0      41.130226       9.685747  21.0      34.0000   \n",
       "Balance             6650.0  804595.354985  515754.867315  63.0  392264.2125   \n",
       "Vintage             6650.0       2.250226       1.458795   0.0       1.0000   \n",
       "Transaction_Status  6650.0       0.515789       0.499788   0.0       0.0000   \n",
       "Credit_Card         6650.0       0.664361       0.472249   0.0       0.0000   \n",
       "Is_Churn            6650.0       0.231128       0.421586   0.0       0.0000   \n",
       "\n",
       "                           50%         75%         max  \n",
       "Age                     40.000       47.00       72.00  \n",
       "Balance             764938.575  1147123.71  2436615.81  \n",
       "Vintage                  2.000        3.00        5.00  \n",
       "Transaction_Status       1.000        1.00        1.00  \n",
       "Credit_Card              1.000        1.00        1.00  \n",
       "Is_Churn                 0.000        0.00        1.00  "
      ]
     },
     "execution_count": 10,
     "metadata": {},
     "output_type": "execute_result"
    }
   ],
   "source": [
    "train.describe().T # checking the statistical values"
   ]
  },
  {
   "cell_type": "code",
   "execution_count": 11,
   "id": "2fb8d559",
   "metadata": {},
   "outputs": [
    {
     "data": {
      "text/plain": [
       "Age                     int64\n",
       "Gender                 object\n",
       "Income                 object\n",
       "Balance               float64\n",
       "Vintage                 int64\n",
       "Transaction_Status      int64\n",
       "Product_Holdings       object\n",
       "Credit_Card             int64\n",
       "Credit_Category        object\n",
       "Is_Churn                int64\n",
       "dtype: object"
      ]
     },
     "execution_count": 11,
     "metadata": {},
     "output_type": "execute_result"
    }
   ],
   "source": [
    "train.dtypes# finding the types of  values in the columns"
   ]
  },
  {
   "cell_type": "markdown",
   "id": "a1a8949b",
   "metadata": {},
   "source": [
    "- <b> Numerical variables are 'Age', 'Balance','Vintage', 'Transaction_Status','Credit_Card', 'Credit_Category','Is_Churn'.</b>\n",
    "    \n",
    "- <b>Categorical variables are  'Gender', 'Income','Product_Holdings','Credit_Category'.</b>"
   ]
  },
  {
   "cell_type": "code",
   "execution_count": 12,
   "id": "cd5c3c60",
   "metadata": {},
   "outputs": [
    {
     "data": {
      "text/plain": [
       "Age                     52\n",
       "Gender                   2\n",
       "Income                   4\n",
       "Balance               6643\n",
       "Vintage                  6\n",
       "Transaction_Status       2\n",
       "Product_Holdings         3\n",
       "Credit_Card              2\n",
       "Credit_Category          3\n",
       "Is_Churn                 2\n",
       "dtype: int64"
      ]
     },
     "execution_count": 12,
     "metadata": {},
     "output_type": "execute_result"
    }
   ],
   "source": [
    "train.nunique()# finding the unique values in the columns"
   ]
  },
  {
   "cell_type": "code",
   "execution_count": 13,
   "id": "ddd60842",
   "metadata": {},
   "outputs": [
    {
     "data": {
      "text/plain": [
       "Age                   0\n",
       "Gender                0\n",
       "Income                0\n",
       "Balance               0\n",
       "Vintage               0\n",
       "Transaction_Status    0\n",
       "Product_Holdings      0\n",
       "Credit_Card           0\n",
       "Credit_Category       0\n",
       "dtype: int64"
      ]
     },
     "execution_count": 13,
     "metadata": {},
     "output_type": "execute_result"
    }
   ],
   "source": [
    "train.isnull().sum()\n",
    "test.isnull().sum()# finding the missing values in the columns"
   ]
  },
  {
   "cell_type": "markdown",
   "id": "29b21043",
   "metadata": {},
   "source": [
    "- <b> There is no misssing values in train data.</b>"
   ]
  },
  {
   "cell_type": "code",
   "execution_count": 16,
   "id": "c5f6ab86",
   "metadata": {},
   "outputs": [
    {
     "data": {
      "text/plain": [
       "0"
      ]
     },
     "execution_count": 16,
     "metadata": {},
     "output_type": "execute_result"
    }
   ],
   "source": [
    "train.duplicated().sum() #finding the duplicated values in the columns\n",
    "test.duplicated().sum()"
   ]
  },
  {
   "cell_type": "markdown",
   "id": "8149bd53",
   "metadata": {},
   "source": [
    "- <b> There is no duplicate values in train data.</b>"
   ]
  },
  {
   "cell_type": "code",
   "execution_count": 21,
   "id": "ccf0962a",
   "metadata": {},
   "outputs": [
    {
     "data": {
      "text/plain": [
       "0    5113\n",
       "1    1537\n",
       "Name: Is_Churn, dtype: int64"
      ]
     },
     "execution_count": 21,
     "metadata": {},
     "output_type": "execute_result"
    }
   ],
   "source": [
    "#finding the count of customer churn in train data\n",
    "train['Is_Churn'].value_counts()"
   ]
  },
  {
   "cell_type": "markdown",
   "id": "a9b15f88",
   "metadata": {},
   "source": [
    "###### Customer churn"
   ]
  },
  {
   "cell_type": "code",
   "execution_count": 22,
   "id": "0d896a81",
   "metadata": {},
   "outputs": [
    {
     "data": {
      "text/plain": [
       "Text(0.5, 1.0, 'Is_Churn')"
      ]
     },
     "execution_count": 22,
     "metadata": {},
     "output_type": "execute_result"
    },
    {
     "data": {
      "image/png": "[encoded data removed]",
      "text/plain": [
       "<Figure size 432x288 with 1 Axes>"
      ]
     },
     "metadata": {
      "needs_background": "light"
     },
     "output_type": "display_data"
    }
   ],
   "source": [
    "sns.countplot(x=train['Is_Churn'])\n",
    "plt.title('Is_Churn')"
   ]
  },
  {
   "cell_type": "markdown",
   "id": "018a1688",
   "metadata": {},
   "source": [
    "- <b> From the customer churn values,we can infer this is an imbalanced dataset.</b>"
   ]
  },
  {
   "cell_type": "markdown",
   "id": "e0867785",
   "metadata": {},
   "source": [
    "##### Customer churn VS Gender"
   ]
  },
  {
   "cell_type": "code",
   "execution_count": 26,
   "id": "7b4da6b6",
   "metadata": {},
   "outputs": [
    {
     "data": {
      "text/plain": [
       "Text(0.5, 1.0, 'Is_Churn VS Gender')"
      ]
     },
     "execution_count": 26,
     "metadata": {},
     "output_type": "execute_result"
    },
    {
     "data": {
      "image/png": "[encoded data removed]",
      "text/plain": [
       "<Figure size 432x288 with 1 Axes>"
      ]
     },
     "metadata": {
      "needs_background": "light"
     },
     "output_type": "display_data"
    }
   ],
   "source": [
    "sns.countplot(x=train['Gender'],hue=train['Is_Churn'])\n",
    "plt.title('Is_Churn VS Gender')"
   ]
  },
  {
   "cell_type": "markdown",
   "id": "5cffa90c",
   "metadata": {},
   "source": [
    "-<b>We can see that gender is not a contributing factor for customer churn in this data set as the numbers of both the genders, that have or haven’t churned, are almost the same.</b>"
   ]
  },
  {
   "cell_type": "markdown",
   "id": "dade80fe",
   "metadata": {},
   "source": [
    "##### Is_Churn VS Income"
   ]
  },
  {
   "cell_type": "code",
   "execution_count": 27,
   "id": "0723157b",
   "metadata": {},
   "outputs": [
    {
     "data": {
      "text/plain": [
       "Text(0.5, 1.0, 'Is_Churn VS Income')"
      ]
     },
     "execution_count": 27,
     "metadata": {},
     "output_type": "execute_result"
    },
    {
     "data": {
      "image/png": "[encoded data removed]",
      "text/plain": [
       "<Figure size 432x288 with 1 Axes>"
      ]
     },
     "metadata": {
      "needs_background": "light"
     },
     "output_type": "display_data"
    }
   ],
   "source": [
    "sns.countplot(x=train['Income'],hue=train['Is_Churn'])\n",
    "plt.title('Is_Churn VS Income')"
   ]
  },
  {
   "cell_type": "markdown",
   "id": "5042f957",
   "metadata": {},
   "source": [
    "-<b> Churn rate is less in 'More than 15L' slab of Income.</b>"
   ]
  },
  {
   "cell_type": "markdown",
   "id": "20eeead5",
   "metadata": {},
   "source": [
    "##### Is_Churn VS Vintage"
   ]
  },
  {
   "cell_type": "code",
   "execution_count": 28,
   "id": "42dfe1d0",
   "metadata": {},
   "outputs": [
    {
     "data": {
      "text/plain": [
       "Text(0.5, 1.0, 'Is_Churn VS Vintage')"
      ]
     },
     "execution_count": 28,
     "metadata": {},
     "output_type": "execute_result"
    },
    {
     "data": {
      "image/png": "[encoded data removed]",
      "text/plain": [
       "<Figure size 432x288 with 1 Axes>"
      ]
     },
     "metadata": {
      "needs_background": "light"
     },
     "output_type": "display_data"
    }
   ],
   "source": [
    "sns.countplot(x=train['Vintage'],hue=train['Is_Churn'])\n",
    "plt.title('Is_Churn VS Vintage')"
   ]
  },
  {
   "cell_type": "markdown",
   "id": "b68d7fc2",
   "metadata": {},
   "source": [
    "-<b> Churn rate is less for customers having vintage equals 5 years.So, more the No. of years the customer is associated with bank, churn rate is less and they can be considered as Loyal customers.</b>"
   ]
  },
  {
   "cell_type": "markdown",
   "id": "82cc4924",
   "metadata": {},
   "source": [
    "##### Is_Churn VS Transaction_Status"
   ]
  },
  {
   "cell_type": "code",
   "execution_count": 29,
   "id": "e8798e8d",
   "metadata": {},
   "outputs": [
    {
     "data": {
      "text/plain": [
       "Text(0.5, 1.0, 'Is_Churn VS Transaction_Status')"
      ]
     },
     "execution_count": 29,
     "metadata": {},
     "output_type": "execute_result"
    },
    {
     "data": {
      "image/png": "[encoded data removed]",
      "text/plain": [
       "<Figure size 432x288 with 1 Axes>"
      ]
     },
     "metadata": {
      "needs_background": "light"
     },
     "output_type": "display_data"
    }
   ],
   "source": [
    "sns.countplot(x=train['Transaction_Status'],hue=train['Is_Churn'])\n",
    "plt.title('Is_Churn VS Transaction_Status')"
   ]
  },
  {
   "cell_type": "markdown",
   "id": "96761a11",
   "metadata": {},
   "source": [
    "- <b> We can see that transation-status is not a influencing factor for customer churn in this data set as the numbers of both are almost the same.</b>"
   ]
  },
  {
   "cell_type": "markdown",
   "id": "ff425bcf",
   "metadata": {},
   "source": [
    "##### Is_Churn VS Product_Holdings"
   ]
  },
  {
   "cell_type": "code",
   "execution_count": 30,
   "id": "388ea6df",
   "metadata": {},
   "outputs": [
    {
     "data": {
      "text/plain": [
       "Text(0.5, 1.0, 'Is_Churn VS Product_Holdings')"
      ]
     },
     "execution_count": 30,
     "metadata": {},
     "output_type": "execute_result"
    },
    {
     "data": {
      "image/png": "[encoded data removed]",
      "text/plain": [
       "<Figure size 432x288 with 1 Axes>"
      ]
     },
     "metadata": {
      "needs_background": "light"
     },
     "output_type": "display_data"
    }
   ],
   "source": [
    "sns.countplot(x=train['Product_Holdings'],hue=train['Is_Churn'])\n",
    "plt.title('Is_Churn VS Product_Holdings')"
   ]
  },
  {
   "cell_type": "markdown",
   "id": "2be3261b",
   "metadata": {},
   "source": [
    "- <b> The customers having No. of product holdings with the bank more than 3 are having very less churn.They are continuing with the services of bank and they are active customers.</b>"
   ]
  },
  {
   "cell_type": "markdown",
   "id": "350fdd58",
   "metadata": {},
   "source": [
    "##### Is_Churn VS Credit_Card"
   ]
  },
  {
   "cell_type": "code",
   "execution_count": 32,
   "id": "d1fca23c",
   "metadata": {},
   "outputs": [
    {
     "data": {
      "text/plain": [
       "Text(0.5, 1.0, 'Is_Churn VS Credit_Card')"
      ]
     },
     "execution_count": 32,
     "metadata": {},
     "output_type": "execute_result"
    },
    {
     "data": {
      "image/png": "[encoded data removed]",
      "text/plain": [
       "<Figure size 432x288 with 1 Axes>"
      ]
     },
     "metadata": {
      "needs_background": "light"
     },
     "output_type": "display_data"
    }
   ],
   "source": [
    "sns.countplot(x=train['Credit_Card'],hue=train['Is_Churn'])\n",
    "plt.title('Is_Churn VS Credit_Card')"
   ]
  },
  {
   "cell_type": "markdown",
   "id": "9124c181",
   "metadata": {},
   "source": [
    "- <b> We can see that Credit-card ownership is not a contributing factor for customer churn in this data set as the numbers of both are almost the same.</b>"
   ]
  },
  {
   "cell_type": "markdown",
   "id": "10534ebb",
   "metadata": {},
   "source": [
    "## 3.Encoding the categorical variables"
   ]
  },
  {
   "cell_type": "code",
   "execution_count": 34,
   "id": "0a7521bb",
   "metadata": {},
   "outputs": [],
   "source": [
    "# Convert String values (Female and Male) of Gender column to 1 and 0\n",
    "\n",
    "train['Gender'].replace({'Female':1,'Male':0},inplace=True)\n",
    "test['Gender'].replace({'Female':1,'Male':0},inplace=True)"
   ]
  },
  {
   "cell_type": "code",
   "execution_count": 35,
   "id": "ad219139",
   "metadata": {},
   "outputs": [],
   "source": [
    "# Convert String values of Income column to 0,1,2 and 3\n",
    "\n",
    "train['Income'].replace({'Less than 5L':0,'5L - 10L':1,'10L - 15L':2,'More than 15L':3},inplace=True)\n",
    "train['Income']\n",
    "\n",
    "test['Income'].replace({'Less than 5L':0,'5L - 10L':1,'10L - 15L':2,'More than 15L':3},inplace=True)"
   ]
  },
  {
   "cell_type": "code",
   "execution_count": 36,
   "id": "9ca14e05",
   "metadata": {},
   "outputs": [],
   "source": [
    "# Convert String values of Product_Holdings column to 1,2 and 3\n",
    "\n",
    "train['Product_Holdings'].replace({'1':1,'2':2,'3+':3},inplace=True)\n",
    "\n",
    "test['Product_Holdings'].replace({'1':1,'2':2,'3+':3},inplace=True)"
   ]
  },
  {
   "cell_type": "code",
   "execution_count": 37,
   "id": "968901f9",
   "metadata": {},
   "outputs": [],
   "source": [
    "# Convert String values of Credit_Category column to 1,2 and 3\n",
    "train['Credit_Category'].replace({'Poor':0,'Good':2,'Average':1},inplace=True)\n",
    "\n",
    "test['Credit_Category'].replace({'Poor':0,'Good':2,'Average':1},inplace=True)\n"
   ]
  },
  {
   "cell_type": "code",
   "execution_count": 39,
   "id": "dd6543e7",
   "metadata": {},
   "outputs": [
    {
     "data": {
      "text/plain": [
       "Age                     int64\n",
       "Gender                  int64\n",
       "Income                  int64\n",
       "Balance               float64\n",
       "Vintage                 int64\n",
       "Transaction_Status      int64\n",
       "Product_Holdings        int64\n",
       "Credit_Card             int64\n",
       "Credit_Category         int64\n",
       "Is_Churn                int64\n",
       "dtype: object"
      ]
     },
     "execution_count": 39,
     "metadata": {},
     "output_type": "execute_result"
    }
   ],
   "source": [
    "train.dtypes#checking the datatypes after conversion"
   ]
  },
  {
   "cell_type": "markdown",
   "id": "cff06ea4",
   "metadata": {},
   "source": [
    "## 4. Scaling th Dataset"
   ]
  },
  {
   "cell_type": "code",
   "execution_count": 153,
   "id": "6cd82529",
   "metadata": {},
   "outputs": [],
   "source": [
    "#Performing Standard scaling for train data\n",
    "from sklearn.preprocessing import StandardScaler #importing StandardScaler function from sklearn library\n",
    "col_names = ['Age', 'Balance']# considering continous columns-'Age', 'Balance' for scaling\n",
    "features = train[col_names]\n",
    "scaler = StandardScaler().fit(features.values)\n",
    "features = scaler.transform(features.values)\n",
    "train[col_names] = features"
   ]
  },
  {
   "cell_type": "code",
   "execution_count": 161,
   "id": "d774727b",
   "metadata": {},
   "outputs": [],
   "source": [
    "#Performing Standard scaling for test data\n",
    "\n",
    "features = test[col_names]\n",
    "scaler = StandardScaler().fit(features.values)\n",
    "features = scaler.transform(features.values)\n",
    "test[col_names] = features"
   ]
  },
  {
   "cell_type": "markdown",
   "id": "b7807deb",
   "metadata": {},
   "source": [
    "#### Correlation Matrix"
   ]
  },
  {
   "cell_type": "code",
   "execution_count": 162,
   "id": "4f8dda8f",
   "metadata": {},
   "outputs": [],
   "source": [
    "#plt.figure(figsize=(10,10)) \n",
    "#sns.heatmap(train.corr(),annot=True,cmap='cubehelix_r') #draws  heatmap with input as the correlation matrix "
   ]
  },
  {
   "cell_type": "markdown",
   "id": "5021a79a",
   "metadata": {},
   "source": [
    "## 5. Modelling"
   ]
  },
  {
   "cell_type": "code",
   "execution_count": 163,
   "id": "55d7353b",
   "metadata": {},
   "outputs": [],
   "source": [
    "#splitting the data into inputs and output for training\n",
    "# 'X' input is train dropping the target variable.\n",
    "\n",
    "X_train = train.drop(['Is_Churn'],axis=1)\n",
    "y_train = train['Is_Churn']   #target\n",
    "\n"
   ]
  },
  {
   "cell_type": "code",
   "execution_count": 164,
   "id": "e77db8d7",
   "metadata": {},
   "outputs": [],
   "source": [
    "#input for prediction\n",
    "X_test=test"
   ]
  },
  {
   "cell_type": "markdown",
   "id": "7d48ebaf",
   "metadata": {},
   "source": [
    "### 1. Logistic Regression Classifier"
   ]
  },
  {
   "cell_type": "code",
   "execution_count": 165,
   "id": "ec97e37d",
   "metadata": {},
   "outputs": [
    {
     "data": {
      "text/plain": [
       "<AxesSubplot:ylabel='count'>"
      ]
     },
     "execution_count": 165,
     "metadata": {},
     "output_type": "execute_result"
    },
    {
     "data": {
      "image/png": "[encoded data removed]",
      "text/plain": [
       "<Figure size 432x288 with 1 Axes>"
      ]
     },
     "metadata": {
      "needs_background": "light"
     },
     "output_type": "display_data"
    }
   ],
   "source": [
    "#importing  Logistic regression from the scikit-learn library \n",
    "from sklearn.linear_model import LogisticRegression\n",
    "\n",
    "\n",
    "# create instance of the model and storing it to variable logit_model\n",
    "logit_model = LogisticRegression(class_weight='balanced')\n",
    "#class_weight='balanced' is assigned for handling the imbalance dataset\n",
    "\n",
    "# fit this into xtrain and y train to create the model\n",
    "logit_model.fit(X_train,y_train)\n",
    "\n",
    "# next predict the values in the x test using this model created\n",
    "# and storing those values to variable y_pred\n",
    "y_pred_log = logit_model.predict(X_test)\n",
    "sns.countplot(x=y_pred_log)"
   ]
  },
  {
   "cell_type": "code",
   "execution_count": 166,
   "id": "d247f40f",
   "metadata": {},
   "outputs": [],
   "source": [
    "log=pd.DataFrame(y_pred_log)\n",
    "log=pd.DataFrame(y_pred_log,index=sam.index)\n",
    "\n",
    "log.columns =['Is_Churn']\n",
    "log.to_csv('log_new.csv')"
   ]
  },
  {
   "cell_type": "markdown",
   "id": "2a48f7f2",
   "metadata": {},
   "source": [
    "-F1 score obtained is 0.588"
   ]
  },
  {
   "cell_type": "markdown",
   "id": "b14070c6",
   "metadata": {},
   "source": [
    "#### Hyper parameter tuning using GridSearch CV"
   ]
  },
  {
   "cell_type": "code",
   "execution_count": 167,
   "id": "0f3218ff",
   "metadata": {},
   "outputs": [
    {
     "name": "stdout",
     "output_type": "stream",
     "text": [
      "Tuned Logistic Regression Parameters: {'C': 0.05179474679231213, 'random_state': 1}\n",
      "Best score is 0.7711278195488723\n"
     ]
    }
   ],
   "source": [
    "# Setup the hyperparameter grid\n",
    "c_space = np.logspace(-5, 8, 15)\n",
    "random_state=[1,10,100,1000]\n",
    "param_grid = {'C': c_space,\n",
    "             'random_state':random_state}\n",
    "\n",
    "from sklearn.model_selection import GridSearchCV\n",
    "# Instantiate a logistic regression classifier: logreg\n",
    "logreg = LogisticRegression()\n",
    "\n",
    "# Instantiate the GridSearchCV object: logreg_cv\n",
    "logreg_cv = GridSearchCV(logreg, param_grid, cv=5)\n",
    "\n",
    "# Fit it to the data\n",
    "logreg_cv.fit(X_train,y_train)\n",
    "\n",
    "# Print the tuned parameters and score\n",
    "print(\"Tuned Logistic Regression Parameters: {}\".format(logreg_cv.best_params_)) \n",
    "print(\"Best score is {}\".format(logreg_cv.best_score_))"
   ]
  },
  {
   "cell_type": "code",
   "execution_count": 168,
   "id": "b611e801",
   "metadata": {},
   "outputs": [
    {
     "data": {
      "text/plain": [
       "<AxesSubplot:ylabel='count'>"
      ]
     },
     "execution_count": 168,
     "metadata": {},
     "output_type": "execute_result"
    },
    {
     "data": {
      "image/png": "[encoded data removed]",
      "text/plain": [
       "<Figure size 432x288 with 1 Axes>"
      ]
     },
     "metadata": {
      "needs_background": "light"
     },
     "output_type": "display_data"
    }
   ],
   "source": [
    "logit_model_1 = LogisticRegression(class_weight='balanced',C=0.05179474679231213,random_state=1)\n",
    "\n",
    "# fit this into xtrain and y train to create the model\n",
    "logit_model_1.fit(X_train,y_train)\n",
    "\n",
    "# next predict the values in the x test using this model created\n",
    "# and storing those values to variable y_pred\n",
    "y_pred_log_Grid = logit_model_1.predict(X_test)\n",
    "y_pred_log_Grid\n",
    "sns.countplot(x=y_pred_log_Grid)"
   ]
  },
  {
   "cell_type": "code",
   "execution_count": 169,
   "id": "86e1a499",
   "metadata": {},
   "outputs": [],
   "source": [
    "log=pd.DataFrame(y_pred_log_Grid)\n",
    "log=pd.DataFrame(y_pred_log,index=sam.index)\n",
    "\n",
    "log.columns =['Is_Churn']\n",
    "log.to_csv('log_new_Grid.csv')"
   ]
  },
  {
   "cell_type": "markdown",
   "id": "08d3c170",
   "metadata": {},
   "source": [
    "-F1 score obtained is 0.5884317856003701."
   ]
  },
  {
   "cell_type": "markdown",
   "id": "c236e36c",
   "metadata": {},
   "source": [
    "### 2.Random Forest Classifier"
   ]
  },
  {
   "cell_type": "code",
   "execution_count": 170,
   "id": "754dd3cf",
   "metadata": {},
   "outputs": [
    {
     "data": {
      "text/plain": [
       "<AxesSubplot:ylabel='count'>"
      ]
     },
     "execution_count": 170,
     "metadata": {},
     "output_type": "execute_result"
    },
    {
     "data": {
      "image/png": "[encoded data removed]",
      "text/plain": [
       "<Figure size 432x288 with 1 Axes>"
      ]
     },
     "metadata": {
      "needs_background": "light"
     },
     "output_type": "display_data"
    }
   ],
   "source": [
    "#Random Forest Classifier\n",
    "from sklearn.ensemble import RandomForestClassifier\n",
    "rf = RandomForestClassifier(class_weight='balanced',min_samples_split=80)\n",
    "rf.fit(X_train, y_train)\n",
    "y_pred_rf=rf.predict(X_test)\n",
    "sns.countplot(x=y_pred_rf)"
   ]
  },
  {
   "cell_type": "code",
   "execution_count": 171,
   "id": "d1bbfedb",
   "metadata": {},
   "outputs": [],
   "source": [
    "rf=pd.DataFrame(y_pred_rf,index=sam.index)\n",
    "rf.columns =['Is_Churn']\n",
    "rf.to_csv('rf_new.csv')"
   ]
  },
  {
   "cell_type": "markdown",
   "id": "33861cbb",
   "metadata": {},
   "source": [
    "-F1 score obtained is 0.5760459392945037."
   ]
  },
  {
   "cell_type": "code",
   "execution_count": 172,
   "id": "046c0a3d",
   "metadata": {},
   "outputs": [
    {
     "name": "stdout",
     "output_type": "stream",
     "text": [
      "{'n_estimators': [100, 119, 138, 157, 176, 195, 215, 234, 253, 272, 291, 311, 330, 349, 368, 387, 407, 426, 445, 464, 483, 503, 522, 541, 560, 579, 598, 618, 637, 656, 675, 694, 714, 733, 752, 771, 790, 810, 829, 848, 867, 886, 906, 925, 944, 963, 982, 1002, 1021, 1040, 1059, 1078, 1097, 1117, 1136, 1155, 1174, 1193, 1213, 1232, 1251, 1270, 1289, 1309, 1328, 1347, 1366, 1385, 1405, 1424, 1443, 1462, 1481, 1501, 1520, 1539, 1558, 1577, 1596, 1616, 1635, 1654, 1673, 1692, 1712, 1731, 1750, 1769, 1788, 1808, 1827, 1846, 1865, 1884, 1904, 1923, 1942, 1961, 1980, 2000], 'max_features': ['auto', 'sqrt'], 'max_depth': [10, 21, 32, 43, 54, 65, 76, 87, 98, 110, None], 'min_samples_split': [2, 5, 10], 'min_samples_leaf': [1, 2, 4, 10], 'bootstrap': [True, False]}\n"
     ]
    }
   ],
   "source": [
    "from sklearn.model_selection import RandomizedSearchCV\n",
    "# Number of trees in random forest\n",
    "n_estimators = [int(x) for x in np.linspace(start = 100, stop = 2000, num = 100)]\n",
    "# Number of features to consider at every split\n",
    "max_features = ['auto', 'sqrt']\n",
    "# Maximum number of levels in tree\n",
    "max_depth = [int(x) for x in np.linspace(10, 110, num = 10)]\n",
    "max_depth.append(None)\n",
    "# Minimum number of samples required to split a node\n",
    "min_samples_split = [2, 5, 10]\n",
    "# Minimum number of samples required at each leaf node\n",
    "min_samples_leaf = [1, 2, 4,10]\n",
    "# Method of selecting samples for training each tree\n",
    "bootstrap = [True, False]\n",
    "# Create the random grid\n",
    "random_grid = {'n_estimators': n_estimators,\n",
    "               'max_features': max_features,\n",
    "               'max_depth': max_depth,\n",
    "               'min_samples_split': min_samples_split,\n",
    "               'min_samples_leaf': min_samples_leaf,\n",
    "               'bootstrap': bootstrap}\n",
    "print(random_grid)"
   ]
  },
  {
   "cell_type": "code",
   "execution_count": 173,
   "id": "f0e082d7",
   "metadata": {},
   "outputs": [
    {
     "name": "stdout",
     "output_type": "stream",
     "text": [
      "Fitting 3 folds for each of 100 candidates, totalling 300 fits\n"
     ]
    },
    {
     "data": {
      "text/plain": [
       "RandomizedSearchCV(cv=3, estimator=RandomForestClassifier(), n_iter=100,\n",
       "                   n_jobs=-1,\n",
       "                   param_distributions={'bootstrap': [True, False],\n",
       "                                        'max_depth': [10, 21, 32, 43, 54, 65,\n",
       "                                                      76, 87, 98, 110, None],\n",
       "                                        'max_features': ['auto', 'sqrt'],\n",
       "                                        'min_samples_leaf': [1, 2, 4, 10],\n",
       "                                        'min_samples_split': [2, 5, 10],\n",
       "                                        'n_estimators': [100, 119, 138, 157,\n",
       "                                                         176, 195, 215, 234,\n",
       "                                                         253, 272, 291, 311,\n",
       "                                                         330, 349, 368, 387,\n",
       "                                                         407, 426, 445, 464,\n",
       "                                                         483, 503, 522, 541,\n",
       "                                                         560, 579, 598, 618,\n",
       "                                                         637, 656, ...]},\n",
       "                   random_state=0, verbose=2)"
      ]
     },
     "execution_count": 173,
     "metadata": {},
     "output_type": "execute_result"
    }
   ],
   "source": [
    "#Now, we instantiate the random search and fit it like any Scikit-Learn model:\n",
    "from sklearn.ensemble import RandomForestClassifier\n",
    "# Use the random grid to search for best hyperparameters\n",
    "# First create the base model to tune\n",
    "rf = RandomForestClassifier()\n",
    "\n",
    "# Random search of parameters, using 3 fold cross validation, \n",
    "# search across 100 different combinations, and use all available cores\n",
    "rf_random = RandomizedSearchCV(estimator = rf, param_distributions = random_grid, n_iter = 100, cv = 3, verbose=2, random_state=0, n_jobs = -1)\n",
    "# Fit the random search model\n",
    "rf_random.fit(X_train, y_train)"
   ]
  },
  {
   "cell_type": "code",
   "execution_count": 174,
   "id": "fb333fe7",
   "metadata": {},
   "outputs": [
    {
     "data": {
      "text/plain": [
       "0.7705265541893486"
      ]
     },
     "execution_count": 174,
     "metadata": {},
     "output_type": "execute_result"
    }
   ],
   "source": [
    "rf_random.best_score_# displaying the score of the tuned model"
   ]
  },
  {
   "cell_type": "code",
   "execution_count": 175,
   "id": "1e8516ce",
   "metadata": {},
   "outputs": [
    {
     "data": {
      "text/plain": [
       "{'n_estimators': 1251,\n",
       " 'min_samples_split': 10,\n",
       " 'min_samples_leaf': 10,\n",
       " 'max_features': 'auto',\n",
       " 'max_depth': 21,\n",
       " 'bootstrap': True}"
      ]
     },
     "execution_count": 175,
     "metadata": {},
     "output_type": "execute_result"
    }
   ],
   "source": [
    "# We can view the best parameters from fitting the random search:\n",
    "rf_random.best_params_# displaying the best set of parameter values"
   ]
  },
  {
   "cell_type": "code",
   "execution_count": 176,
   "id": "c3d6132c",
   "metadata": {
    "scrolled": true
   },
   "outputs": [],
   "source": [
    "#We can fit the model, display the best hyperparameters, and evaluate performance:\n",
    "rfc=RandomForestClassifier(class_weight='balanced',n_estimators=1251,min_samples_split=10, min_samples_leaf= 10,max_features='sqrt', max_depth=21, bootstrap= True)\n",
    "\n",
    "#Train the model using the training sets y_pred=clf.predict(X_test)\n",
    "rfc.fit(X_train,y_train)\n",
    "\n",
    "y_pred_rfc_RS=rfc.predict(X_test)\n",
    "#sns.countplot(x=y_pred_rfc_RS)"
   ]
  },
  {
   "cell_type": "code",
   "execution_count": 177,
   "id": "855a5a5d",
   "metadata": {},
   "outputs": [],
   "source": [
    "rf=pd.DataFrame(y_pred_rfc_RS,index=sam.index)\n",
    "\n",
    "rf.columns =['Is_Churn']\n",
    "rf.to_csv('rf_new_RS.csv')"
   ]
  },
  {
   "cell_type": "code",
   "execution_count": null,
   "id": "00e6597b",
   "metadata": {},
   "outputs": [],
   "source": []
  }
 ],
 "metadata": {
  "kernelspec": {
   "display_name": "Python 3 (ipykernel)",
   "language": "python",
   "name": "python3"
  },
  "language_info": {
   "codemirror_mode": {
    "name": "ipython",
    "version": 3
   },
   "file_extension": ".py",
   "mimetype": "text/x-python",
   "name": "python",
   "nbconvert_exporter": "python",
   "pygments_lexer": "ipython3",
   "version": "3.9.12"
  }
 },
 "nbformat": 4,
 "nbformat_minor": 5
}
