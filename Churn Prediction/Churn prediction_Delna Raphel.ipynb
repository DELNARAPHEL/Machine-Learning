{
 "cells": [
  {
   "cell_type": "code",
   "execution_count": 9,
   "id": "8222156e",
   "metadata": {},
   "outputs": [],
   "source": [
    "# Import Necessary Libraries\n",
    "import numpy as np\n",
    "import pandas as pd\n",
    "import matplotlib.pyplot as plt\n",
    "import seaborn as sns"
   ]
  },
  {
   "cell_type": "code",
   "execution_count": 10,
   "id": "243113f8",
   "metadata": {},
   "outputs": [],
   "source": [
    "#reading the data into python environment and assigning the index column as 'ID'.\n",
    "\n",
    "#train dataset\n",
    "train=pd.read_csv(r'C:\\Users\\DELNA.RAPHEL\\Desktop\\DSA\\Analytics Vidhya\\DATA\\train_PDjVQMB.csv',index_col='ID')\n",
    "\n",
    "#test dataset\n",
    "test=pd.read_csv(r'C:\\Users\\DELNA.RAPHEL\\Desktop\\DSA\\Analytics Vidhya\\DATA\\test_lTY72QC.csv',index_col='ID')\n",
    "\n",
    "#sample submission dataset\n",
    "sam=pd.read_csv(r'C:\\Users\\DELNA.RAPHEL\\Desktop\\DSA\\Analytics Vidhya\\DATA\\sample_OoSmYo5.csv',index_col=\"ID\")"
   ]
  },
  {
   "cell_type": "code",
   "execution_count": 11,
   "id": "a9eafeec",
   "metadata": {},
   "outputs": [
    {
     "data": {
      "text/html": [
       "<div>\n",
       "<style scoped>\n",
       "    .dataframe tbody tr th:only-of-type {\n",
       "        vertical-align: middle;\n",
       "    }\n",
       "\n",
       "    .dataframe tbody tr th {\n",
       "        vertical-align: top;\n",
       "    }\n",
       "\n",
       "    .dataframe thead th {\n",
       "        text-align: right;\n",
       "    }\n",
       "</style>\n",
       "<table border=\"1\" class=\"dataframe\">\n",
       "  <thead>\n",
       "    <tr style=\"text-align: right;\">\n",
       "      <th></th>\n",
       "      <th>Age</th>\n",
       "      <th>Gender</th>\n",
       "      <th>Income</th>\n",
       "      <th>Balance</th>\n",
       "      <th>Vintage</th>\n",
       "      <th>Transaction_Status</th>\n",
       "      <th>Product_Holdings</th>\n",
       "      <th>Credit_Card</th>\n",
       "      <th>Credit_Category</th>\n",
       "      <th>Is_Churn</th>\n",
       "    </tr>\n",
       "    <tr>\n",
       "      <th>ID</th>\n",
       "      <th></th>\n",
       "      <th></th>\n",
       "      <th></th>\n",
       "      <th></th>\n",
       "      <th></th>\n",
       "      <th></th>\n",
       "      <th></th>\n",
       "      <th></th>\n",
       "      <th></th>\n",
       "      <th></th>\n",
       "    </tr>\n",
       "  </thead>\n",
       "  <tbody>\n",
       "    <tr>\n",
       "      <th>84e2fcc9</th>\n",
       "      <td>36</td>\n",
       "      <td>Female</td>\n",
       "      <td>5L - 10L</td>\n",
       "      <td>563266.44</td>\n",
       "      <td>4</td>\n",
       "      <td>0</td>\n",
       "      <td>1</td>\n",
       "      <td>0</td>\n",
       "      <td>Average</td>\n",
       "      <td>1</td>\n",
       "    </tr>\n",
       "    <tr>\n",
       "      <th>57fea15e</th>\n",
       "      <td>53</td>\n",
       "      <td>Female</td>\n",
       "      <td>Less than 5L</td>\n",
       "      <td>875572.11</td>\n",
       "      <td>2</td>\n",
       "      <td>1</td>\n",
       "      <td>1</td>\n",
       "      <td>1</td>\n",
       "      <td>Poor</td>\n",
       "      <td>0</td>\n",
       "    </tr>\n",
       "    <tr>\n",
       "      <th>8df34ef3</th>\n",
       "      <td>35</td>\n",
       "      <td>Female</td>\n",
       "      <td>More than 15L</td>\n",
       "      <td>701607.06</td>\n",
       "      <td>2</td>\n",
       "      <td>1</td>\n",
       "      <td>2</td>\n",
       "      <td>0</td>\n",
       "      <td>Poor</td>\n",
       "      <td>0</td>\n",
       "    </tr>\n",
       "    <tr>\n",
       "      <th>c5c0788b</th>\n",
       "      <td>43</td>\n",
       "      <td>Female</td>\n",
       "      <td>More than 15L</td>\n",
       "      <td>1393922.16</td>\n",
       "      <td>0</td>\n",
       "      <td>1</td>\n",
       "      <td>2</td>\n",
       "      <td>1</td>\n",
       "      <td>Poor</td>\n",
       "      <td>1</td>\n",
       "    </tr>\n",
       "    <tr>\n",
       "      <th>951d69c4</th>\n",
       "      <td>39</td>\n",
       "      <td>Female</td>\n",
       "      <td>More than 15L</td>\n",
       "      <td>893146.23</td>\n",
       "      <td>1</td>\n",
       "      <td>1</td>\n",
       "      <td>1</td>\n",
       "      <td>1</td>\n",
       "      <td>Good</td>\n",
       "      <td>1</td>\n",
       "    </tr>\n",
       "  </tbody>\n",
       "</table>\n",
       "</div>"
      ],
      "text/plain": [
       "          Age  Gender         Income     Balance  Vintage  Transaction_Status  \\\n",
       "ID                                                                              \n",
       "84e2fcc9   36  Female       5L - 10L   563266.44        4                   0   \n",
       "57fea15e   53  Female   Less than 5L   875572.11        2                   1   \n",
       "8df34ef3   35  Female  More than 15L   701607.06        2                   1   \n",
       "c5c0788b   43  Female  More than 15L  1393922.16        0                   1   \n",
       "951d69c4   39  Female  More than 15L   893146.23        1                   1   \n",
       "\n",
       "         Product_Holdings  Credit_Card Credit_Category  Is_Churn  \n",
       "ID                                                                \n",
       "84e2fcc9                1            0         Average         1  \n",
       "57fea15e                1            1            Poor         0  \n",
       "8df34ef3                2            0            Poor         0  \n",
       "c5c0788b                2            1            Poor         1  \n",
       "951d69c4                1            1            Good         1  "
      ]
     },
     "execution_count": 11,
     "metadata": {},
     "output_type": "execute_result"
    }
   ],
   "source": [
    "#displaying the train data\n",
    "train.head()"
   ]
  },
  {
   "cell_type": "code",
   "execution_count": 12,
   "id": "0304b9e0",
   "metadata": {},
   "outputs": [
    {
     "name": "stdout",
     "output_type": "stream",
     "text": [
      "<class 'pandas.core.frame.DataFrame'>\n",
      "Index: 6650 entries, 84e2fcc9 to 57b39511\n",
      "Data columns (total 10 columns):\n",
      " #   Column              Non-Null Count  Dtype  \n",
      "---  ------              --------------  -----  \n",
      " 0   Age                 6650 non-null   int64  \n",
      " 1   Gender              6650 non-null   object \n",
      " 2   Income              6650 non-null   object \n",
      " 3   Balance             6650 non-null   float64\n",
      " 4   Vintage             6650 non-null   int64  \n",
      " 5   Transaction_Status  6650 non-null   int64  \n",
      " 6   Product_Holdings    6650 non-null   object \n",
      " 7   Credit_Card         6650 non-null   int64  \n",
      " 8   Credit_Category     6650 non-null   object \n",
      " 9   Is_Churn            6650 non-null   int64  \n",
      "dtypes: float64(1), int64(5), object(4)\n",
      "memory usage: 571.5+ KB\n"
     ]
    }
   ],
   "source": [
    "train.info()"
   ]
  },
  {
   "cell_type": "markdown",
   "id": "35a25521",
   "metadata": {},
   "source": [
    "- <b> There are 6650 rows and 10 columns in train data.</b>"
   ]
  },
  {
   "cell_type": "code",
   "execution_count": null,
   "id": "23ec348c",
   "metadata": {},
   "outputs": [],
   "source": []
  },
  {
   "cell_type": "code",
   "execution_count": null,
   "id": "41fc1d52",
   "metadata": {},
   "outputs": [],
   "source": []
  },
  {
   "cell_type": "code",
   "execution_count": null,
   "id": "89893e0e",
   "metadata": {},
   "outputs": [],
   "source": []
  },
  {
   "cell_type": "code",
   "execution_count": null,
   "id": "81e8fb53",
   "metadata": {},
   "outputs": [],
   "source": []
  }
 ],
 "metadata": {
  "kernelspec": {
   "display_name": "Python 3",
   "language": "python",
   "name": "python3"
  },
  "language_info": {
   "codemirror_mode": {
    "name": "ipython",
    "version": 3
   },
   "file_extension": ".py",
   "mimetype": "text/x-python",
   "name": "python",
   "nbconvert_exporter": "python",
   "pygments_lexer": "ipython3",
   "version": "3.8.8"
  }
 },
 "nbformat": 4,
 "nbformat_minor": 5
}
