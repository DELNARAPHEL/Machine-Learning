{
 "cells": [
  {
   "cell_type": "markdown",
   "id": "400033b8",
   "metadata": {},
   "source": [
    "# Vehicle choice prediction"
   ]
  },
  {
   "cell_type": "markdown",
   "id": "75f33daf",
   "metadata": {},
   "source": [
    "#### **Problem Overview:**\n",
    "\n",
    "> XYZ Motor Manufactures has collected some data samples from their existing custumers to determine what kind of cars are being purchased by what kind of demogrraphic."
   ]
  },
  {
   "cell_type": "markdown",
   "id": "642786f4",
   "metadata": {},
   "source": [
    "#### **Task:**\n",
    "\n",
    "> To predict the Choice of Vehicle by building a Machine Learning Model."
   ]
  },
  {
   "cell_type": "code",
   "execution_count": 267,
   "id": "d92d9bb5",
   "metadata": {},
   "outputs": [],
   "source": [
    "#importing the relevant libraries\n",
    "import numpy as np\n",
    "import pandas as pd\n",
    "import matplotlib.pyplot as plt\n",
    "import seaborn as sns"
   ]
  },
  {
   "cell_type": "code",
   "execution_count": 268,
   "id": "c05e1e5a",
   "metadata": {},
   "outputs": [],
   "source": [
    "#reading the data into python environment and  Making ‘CustomerID’ as the index column\n",
    "train=pd.read_csv('train.csv',index_col='CustomerID')# train data\n",
    "test=pd.read_csv('test.csv',index_col='CustomerID')#test data\n",
    "sam=pd.read_csv('sample_submission.csv',index_col=\"CustomerID\")#sample submission\n"
   ]
  },
  {
   "cell_type": "code",
   "execution_count": 269,
   "id": "e2b4723b",
   "metadata": {},
   "outputs": [
    {
     "data": {
      "text/html": [
       "<div>\n",
       "<style scoped>\n",
       "    .dataframe tbody tr th:only-of-type {\n",
       "        vertical-align: middle;\n",
       "    }\n",
       "\n",
       "    .dataframe tbody tr th {\n",
       "        vertical-align: top;\n",
       "    }\n",
       "\n",
       "    .dataframe thead th {\n",
       "        text-align: right;\n",
       "    }\n",
       "</style>\n",
       "<table border=\"1\" class=\"dataframe\">\n",
       "  <thead>\n",
       "    <tr style=\"text-align: right;\">\n",
       "      <th></th>\n",
       "      <th>Age</th>\n",
       "      <th>Gender</th>\n",
       "      <th>City</th>\n",
       "      <th>is_Married</th>\n",
       "      <th>family_size</th>\n",
       "      <th>height</th>\n",
       "      <th>annual_income</th>\n",
       "      <th>job</th>\n",
       "      <th>is_physically_ok</th>\n",
       "      <th>has_taken_car_loan</th>\n",
       "      <th>preferable_fuel_choice</th>\n",
       "      <th>vehicle_choice</th>\n",
       "    </tr>\n",
       "    <tr>\n",
       "      <th>CustomerID</th>\n",
       "      <th></th>\n",
       "      <th></th>\n",
       "      <th></th>\n",
       "      <th></th>\n",
       "      <th></th>\n",
       "      <th></th>\n",
       "      <th></th>\n",
       "      <th></th>\n",
       "      <th></th>\n",
       "      <th></th>\n",
       "      <th></th>\n",
       "      <th></th>\n",
       "    </tr>\n",
       "  </thead>\n",
       "  <tbody>\n",
       "    <tr>\n",
       "      <th>CusID_00000</th>\n",
       "      <td>36.0</td>\n",
       "      <td>Male</td>\n",
       "      <td>New York City</td>\n",
       "      <td>Divorced</td>\n",
       "      <td>2.0</td>\n",
       "      <td>160.0</td>\n",
       "      <td>32200.0</td>\n",
       "      <td>Service</td>\n",
       "      <td>Yes</td>\n",
       "      <td>Yes</td>\n",
       "      <td>Hybrid</td>\n",
       "      <td>Sedan</td>\n",
       "    </tr>\n",
       "    <tr>\n",
       "      <th>CusID_00001</th>\n",
       "      <td>15.0</td>\n",
       "      <td>Female</td>\n",
       "      <td>New York City</td>\n",
       "      <td>Single</td>\n",
       "      <td>1.0</td>\n",
       "      <td>143.0</td>\n",
       "      <td>9000.0</td>\n",
       "      <td>Service</td>\n",
       "      <td>Yes</td>\n",
       "      <td>Yes</td>\n",
       "      <td>Petrol</td>\n",
       "      <td>Compact Utility Vehicle</td>\n",
       "    </tr>\n",
       "    <tr>\n",
       "      <th>CusID_00002</th>\n",
       "      <td>55.0</td>\n",
       "      <td>Male</td>\n",
       "      <td>Paris</td>\n",
       "      <td>Married</td>\n",
       "      <td>2.0</td>\n",
       "      <td>168.0</td>\n",
       "      <td>152400.0</td>\n",
       "      <td>Service</td>\n",
       "      <td>Yes</td>\n",
       "      <td>No</td>\n",
       "      <td>Petrol</td>\n",
       "      <td>Sports Sedan</td>\n",
       "    </tr>\n",
       "    <tr>\n",
       "      <th>CusID_00003</th>\n",
       "      <td>23.0</td>\n",
       "      <td>Male</td>\n",
       "      <td>Vancouver</td>\n",
       "      <td>Divorced</td>\n",
       "      <td>3.0</td>\n",
       "      <td>165.0</td>\n",
       "      <td>141140.0</td>\n",
       "      <td>Business</td>\n",
       "      <td>Yes</td>\n",
       "      <td>No</td>\n",
       "      <td>Diesel</td>\n",
       "      <td>Sportscar</td>\n",
       "    </tr>\n",
       "    <tr>\n",
       "      <th>CusID_00004</th>\n",
       "      <td>23.0</td>\n",
       "      <td>Not_Specified</td>\n",
       "      <td>Vancouver</td>\n",
       "      <td>Single</td>\n",
       "      <td>1.0</td>\n",
       "      <td>147.0</td>\n",
       "      <td>38100.0</td>\n",
       "      <td>Service</td>\n",
       "      <td>Yes</td>\n",
       "      <td>Yes</td>\n",
       "      <td>Hybrid</td>\n",
       "      <td>Sports Utility Vehicle</td>\n",
       "    </tr>\n",
       "  </tbody>\n",
       "</table>\n",
       "</div>"
      ],
      "text/plain": [
       "              Age         Gender           City is_Married  family_size  \\\n",
       "CustomerID                                                                \n",
       "CusID_00000  36.0           Male  New York City   Divorced          2.0   \n",
       "CusID_00001  15.0         Female  New York City     Single          1.0   \n",
       "CusID_00002  55.0           Male          Paris    Married          2.0   \n",
       "CusID_00003  23.0           Male      Vancouver   Divorced          3.0   \n",
       "CusID_00004  23.0  Not_Specified      Vancouver     Single          1.0   \n",
       "\n",
       "             height  annual_income       job is_physically_ok  \\\n",
       "CustomerID                                                      \n",
       "CusID_00000   160.0        32200.0   Service              Yes   \n",
       "CusID_00001   143.0         9000.0   Service              Yes   \n",
       "CusID_00002   168.0       152400.0   Service              Yes   \n",
       "CusID_00003   165.0       141140.0  Business              Yes   \n",
       "CusID_00004   147.0        38100.0   Service              Yes   \n",
       "\n",
       "            has_taken_car_loan preferable_fuel_choice           vehicle_choice  \n",
       "CustomerID                                                                      \n",
       "CusID_00000                Yes                 Hybrid                    Sedan  \n",
       "CusID_00001                Yes                 Petrol  Compact Utility Vehicle  \n",
       "CusID_00002                 No                 Petrol             Sports Sedan  \n",
       "CusID_00003                 No                 Diesel                Sportscar  \n",
       "CusID_00004                Yes                 Hybrid   Sports Utility Vehicle  "
      ]
     },
     "execution_count": 269,
     "metadata": {},
     "output_type": "execute_result"
    }
   ],
   "source": [
    "train.head()#displaying the train data"
   ]
  },
  {
   "cell_type": "code",
   "execution_count": 270,
   "id": "f6d54eb9",
   "metadata": {},
   "outputs": [
    {
     "name": "stdout",
     "output_type": "stream",
     "text": [
      "<class 'pandas.core.frame.DataFrame'>\n",
      "Index: 30000 entries, CusID_00000 to CusID_29999\n",
      "Data columns (total 12 columns):\n",
      " #   Column                  Non-Null Count  Dtype  \n",
      "---  ------                  --------------  -----  \n",
      " 0   Age                     29561 non-null  float64\n",
      " 1   Gender                  29583 non-null  object \n",
      " 2   City                    29577 non-null  object \n",
      " 3   is_Married              29580 non-null  object \n",
      " 4   family_size             29586 non-null  float64\n",
      " 5   height                  29569 non-null  float64\n",
      " 6   annual_income           29581 non-null  float64\n",
      " 7   job                     29572 non-null  object \n",
      " 8   is_physically_ok        29578 non-null  object \n",
      " 9   has_taken_car_loan      29569 non-null  object \n",
      " 10  preferable_fuel_choice  29572 non-null  object \n",
      " 11  vehicle_choice          30000 non-null  object \n",
      "dtypes: float64(4), object(8)\n",
      "memory usage: 3.0+ MB\n"
     ]
    }
   ],
   "source": [
    "train.info()#displaying the information"
   ]
  },
  {
   "cell_type": "code",
   "execution_count": 271,
   "id": "ad593414",
   "metadata": {},
   "outputs": [
    {
     "name": "stdout",
     "output_type": "stream",
     "text": [
      "Unique values in Age are :\n",
      "31.0    1301\n",
      "27.0    1276\n",
      "22.0    1266\n",
      "33.0    1253\n",
      "23.0    1237\n",
      "20.0    1232\n",
      "32.0    1228\n",
      "28.0    1220\n",
      "35.0    1217\n",
      "34.0    1214\n",
      "30.0    1211\n",
      "24.0    1207\n",
      "26.0    1182\n",
      "21.0    1171\n",
      "29.0    1166\n",
      "25.0    1151\n",
      "38.0     768\n",
      "37.0     730\n",
      "36.0     723\n",
      "39.0     718\n",
      "15.0     513\n",
      "17.0     510\n",
      "19.0     498\n",
      "18.0     479\n",
      "16.0     439\n",
      "45.0     307\n",
      "49.0     281\n",
      "40.0     273\n",
      "41.0     270\n",
      "48.0     267\n",
      "46.0     267\n",
      "50.0     264\n",
      "42.0     261\n",
      "43.0     257\n",
      "44.0     255\n",
      "47.0     253\n",
      "54.0     181\n",
      "55.0     178\n",
      "57.0     176\n",
      "51.0     174\n",
      "52.0     172\n",
      "60.0     170\n",
      "56.0     166\n",
      "59.0     166\n",
      "53.0     163\n",
      "58.0     150\n",
      "Name: Age, dtype: int64\n",
      "**************************************************\n",
      "Unique values in Gender are :\n",
      "Female           12588\n",
      "Male             12316\n",
      "Not_Specified     4675\n",
      "ZH#C@                1\n",
      "SA#?I                1\n",
      "VG?H%                1\n",
      "TD%Q@                1\n",
      "Name: Gender, dtype: int64\n",
      "**************************************************\n",
      "Unique values in City are :\n",
      "Barcelona        1456\n",
      "San Francisco    1396\n",
      "Los Angeles      1384\n",
      "Budapest         1382\n",
      "Kolkata          1379\n",
      "New York City    1369\n",
      "Berlin           1355\n",
      "Taipei           1350\n",
      "Kuala Lampur     1347\n",
      "Vienna           1346\n",
      "Munich           1344\n",
      "Florence         1341\n",
      "Toronto          1324\n",
      "Paris            1321\n",
      "Delhi            1319\n",
      "Sydney           1316\n",
      "Chennai          1315\n",
      "Mumbai           1308\n",
      "Perth            1308\n",
      "Vancouver        1307\n",
      "London           1307\n",
      "Shinjuku         1299\n",
      "P?IX@               1\n",
      "#B?TL               1\n",
      "#VPI@               1\n",
      "#XY@G               1\n",
      "Name: City, dtype: int64\n",
      "**************************************************\n",
      "Unique values in is_Married are :\n",
      "Married     13465\n",
      "Single       8528\n",
      "Divorced     7582\n",
      "ORV@#           1\n",
      "S#TF%           1\n",
      "@XTZ?           1\n",
      "?D@NF           1\n",
      "T@JF%           1\n",
      "Name: is_Married, dtype: int64\n",
      "**************************************************\n",
      "Unique values in family_size are :\n",
      "1.0    8541\n",
      "4.0    5264\n",
      "3.0    5217\n",
      "2.0    5216\n",
      "6.0    2676\n",
      "5.0    2672\n",
      "Name: family_size, dtype: int64\n",
      "**************************************************\n",
      "Unique values in height are :\n",
      "160.0    983\n",
      "156.0    971\n",
      "145.0    967\n",
      "149.0    963\n",
      "154.0    957\n",
      "141.0    956\n",
      "147.0    948\n",
      "142.0    943\n",
      "152.0    941\n",
      "148.0    941\n",
      "144.0    935\n",
      "146.0    931\n",
      "150.0    929\n",
      "159.0    925\n",
      "158.0    923\n",
      "157.0    919\n",
      "140.0    913\n",
      "155.0    913\n",
      "143.0    910\n",
      "153.0    902\n",
      "151.0    884\n",
      "161.0    713\n",
      "162.0    693\n",
      "139.0    692\n",
      "163.0    678\n",
      "138.0    641\n",
      "137.0    624\n",
      "135.0    452\n",
      "136.0    441\n",
      "165.0    312\n",
      "167.0    303\n",
      "168.0    300\n",
      "172.0    296\n",
      "175.0    285\n",
      "178.0    284\n",
      "173.0    284\n",
      "176.0    281\n",
      "171.0    280\n",
      "177.0    277\n",
      "164.0    275\n",
      "166.0    274\n",
      "170.0    273\n",
      "179.0    268\n",
      "180.0    262\n",
      "174.0    260\n",
      "169.0    256\n",
      "130.0     47\n",
      "133.0     45\n",
      "134.0     43\n",
      "132.0     39\n",
      "131.0     37\n",
      "Name: height, dtype: int64\n",
      "**************************************************\n",
      "Unique values in annual_income are :\n",
      "5700.0      72\n",
      "7700.0      72\n",
      "5300.0      71\n",
      "2400.0      70\n",
      "5000.0      70\n",
      "            ..\n",
      "89820.0      1\n",
      "111170.0     1\n",
      "38930.0      1\n",
      "74010.0      1\n",
      "84430.0      1\n",
      "Name: annual_income, Length: 10023, dtype: int64\n",
      "**************************************************\n",
      "Unique values in job are :\n",
      "Business       14218\n",
      "Service        11918\n",
      "Student         2870\n",
      "Undisclosed      562\n",
      "KBN?#              1\n",
      "UZT?@              1\n",
      "Z@B%L              1\n",
      "TV%?N              1\n",
      "Name: job, dtype: int64\n",
      "**************************************************\n",
      "Unique values in is_physically_ok are :\n",
      "Yes      28295\n",
      "No        1281\n",
      "UY%X@        1\n",
      "Y%?UH        1\n",
      "Name: is_physically_ok, dtype: int64\n",
      "**************************************************\n",
      "Unique values in has_taken_car_loan are :\n",
      "No       15444\n",
      "Yes      14122\n",
      "@W%GO        1\n",
      "AF?V%        1\n",
      "?N%IY        1\n",
      "Name: has_taken_car_loan, dtype: int64\n",
      "**************************************************\n",
      "Unique values in preferable_fuel_choice are :\n",
      "Petrol    12180\n",
      "Diesel    11187\n",
      "Hybrid     5107\n",
      "EV         1095\n",
      "#%KXJ         1\n",
      "SVY@#         1\n",
      "IX%K#         1\n",
      "Name: preferable_fuel_choice, dtype: int64\n",
      "**************************************************\n",
      "Unique values in vehicle_choice are :\n",
      "Sports Utility Vehicle     3718\n",
      "Compact Utility Vehicle    3137\n",
      "Luxury Sedan               2887\n",
      "Crossover                  2640\n",
      "Sports Sedan               2317\n",
      "Utility Vehicle            2309\n",
      "Sedan                      2210\n",
      "Hatchback                  1853\n",
      "Compact Sedan              1629\n",
      "Pickup-Truck               1566\n",
      "Luxury Coupe               1097\n",
      "Sportscar                  1011\n",
      "Convertible                 949\n",
      "Station Wagon               911\n",
      "Coupe                       549\n",
      "Sports Coupe                549\n",
      "Utility vehicle             340\n",
      "Minivan                     328\n",
      "Name: vehicle_choice, dtype: int64\n",
      "**************************************************\n"
     ]
    }
   ],
   "source": [
    "# finding the unique values in the columns in train data\n",
    "for i in train.columns:\n",
    "    print('Unique values in',i, 'are :')\n",
    "    print(train[i].value_counts())\n",
    "    print('*'*50)"
   ]
  },
  {
   "cell_type": "code",
   "execution_count": 272,
   "id": "ee7c45f7",
   "metadata": {
    "scrolled": false
   },
   "outputs": [
    {
     "name": "stdout",
     "output_type": "stream",
     "text": [
      "Unique values in Age are :\n",
      "35.0    237\n",
      "34.0    225\n",
      "30.0    220\n",
      "32.0    214\n",
      "20.0    213\n",
      "33.0    205\n",
      "29.0    204\n",
      "24.0    202\n",
      "22.0    201\n",
      "23.0    199\n",
      "26.0    197\n",
      "27.0    191\n",
      "28.0    185\n",
      "21.0    184\n",
      "31.0    182\n",
      "25.0    178\n",
      "38.0    141\n",
      "36.0    119\n",
      "37.0    119\n",
      "39.0    118\n",
      "17.0     99\n",
      "16.0     90\n",
      "15.0     87\n",
      "18.0     81\n",
      "19.0     71\n",
      "50.0     58\n",
      "46.0     54\n",
      "43.0     53\n",
      "48.0     47\n",
      "45.0     45\n",
      "49.0     42\n",
      "44.0     42\n",
      "41.0     42\n",
      "42.0     42\n",
      "40.0     41\n",
      "57.0     35\n",
      "53.0     34\n",
      "55.0     32\n",
      "47.0     31\n",
      "56.0     29\n",
      "51.0     28\n",
      "59.0     26\n",
      "54.0     25\n",
      "60.0     24\n",
      "58.0     21\n",
      "52.0     20\n",
      "Name: Age, dtype: int64\n",
      "**************************************************\n",
      "Unique values in Gender are :\n",
      "Female           2074\n",
      "Male             2062\n",
      "Not_Specified     781\n",
      "EV%N?               1\n",
      "N%E#G               1\n",
      "Name: Gender, dtype: int64\n",
      "**************************************************\n",
      "Unique values in City are :\n",
      "New York City    257\n",
      "Delhi            251\n",
      "Toronto          241\n",
      "Florence         238\n",
      "Shinjuku         235\n",
      "London           232\n",
      "Kolkata          232\n",
      "Vancouver        227\n",
      "Munich           223\n",
      "Mumbai           223\n",
      "Taipei           220\n",
      "Budapest         220\n",
      "Berlin           219\n",
      "San Francisco    218\n",
      "Chennai          217\n",
      "Perth            217\n",
      "Vienna           214\n",
      "Paris            214\n",
      "Sydney           212\n",
      "Los Angeles      211\n",
      "Barcelona        207\n",
      "Kuala Lampur     199\n",
      "%?ACE              1\n",
      "Name: City, dtype: int64\n",
      "**************************************************\n",
      "Unique values in is_Married are :\n",
      "Married     2204\n",
      "Single      1465\n",
      "Divorced    1246\n",
      "Name: is_Married, dtype: int64\n",
      "**************************************************\n",
      "Unique values in family_size are :\n",
      "1.0    1470\n",
      "2.0     889\n",
      "3.0     863\n",
      "4.0     829\n",
      "6.0     447\n",
      "5.0     429\n",
      "Name: family_size, dtype: int64\n",
      "**************************************************\n",
      "Unique values in height are :\n",
      "155.0    178\n",
      "145.0    170\n",
      "140.0    169\n",
      "160.0    168\n",
      "143.0    166\n",
      "144.0    164\n",
      "150.0    163\n",
      "153.0    162\n",
      "142.0    161\n",
      "154.0    159\n",
      "141.0    158\n",
      "157.0    157\n",
      "151.0    155\n",
      "156.0    150\n",
      "148.0    148\n",
      "149.0    146\n",
      "147.0    146\n",
      "159.0    146\n",
      "152.0    141\n",
      "158.0    139\n",
      "146.0    131\n",
      "162.0    122\n",
      "138.0    121\n",
      "137.0    113\n",
      "161.0    109\n",
      "163.0    104\n",
      "139.0    103\n",
      "135.0     80\n",
      "136.0     70\n",
      "168.0     63\n",
      "178.0     53\n",
      "173.0     52\n",
      "175.0     52\n",
      "167.0     50\n",
      "165.0     49\n",
      "172.0     49\n",
      "166.0     49\n",
      "180.0     48\n",
      "177.0     47\n",
      "169.0     46\n",
      "171.0     44\n",
      "179.0     42\n",
      "176.0     42\n",
      "170.0     41\n",
      "174.0     38\n",
      "164.0     35\n",
      "133.0      9\n",
      "131.0      8\n",
      "130.0      7\n",
      "132.0      7\n",
      "134.0      3\n",
      "Name: height, dtype: int64\n",
      "**************************************************\n",
      "Unique values in annual_income are :\n",
      "6700.0      17\n",
      "2800.0      17\n",
      "5100.0      16\n",
      "7000.0      15\n",
      "2200.0      14\n",
      "            ..\n",
      "135120.0     1\n",
      "32220.0      1\n",
      "111420.0     1\n",
      "124230.0     1\n",
      "75440.0      1\n",
      "Name: annual_income, Length: 3255, dtype: int64\n",
      "**************************************************\n",
      "Unique values in job are :\n",
      "Business       2319\n",
      "Service        2006\n",
      "Student         505\n",
      "Undisclosed      96\n",
      "Name: job, dtype: int64\n",
      "**************************************************\n",
      "Unique values in is_physically_ok are :\n",
      "Yes      4718\n",
      "No        215\n",
      "K%#MY       1\n",
      "Name: is_physically_ok, dtype: int64\n",
      "**************************************************\n",
      "Unique values in has_taken_car_loan are :\n",
      "No       2579\n",
      "Yes      2358\n",
      "U#@DX       1\n",
      "DG?#H       1\n",
      "Name: has_taken_car_loan, dtype: int64\n",
      "**************************************************\n",
      "Unique values in preferable_fuel_choice are :\n",
      "Petrol    2010\n",
      "Diesel    1873\n",
      "Hybrid     838\n",
      "EV         195\n",
      "FC?P%        1\n",
      "Name: preferable_fuel_choice, dtype: int64\n",
      "**************************************************\n"
     ]
    }
   ],
   "source": [
    "# finding the unique values in the columns in test data\n",
    "for i in test.columns:\n",
    "    print('Unique values in',i, 'are :')\n",
    "    print(test[i].value_counts())\n",
    "    print('*'*50)"
   ]
  },
  {
   "cell_type": "markdown",
   "id": "09946f9a",
   "metadata": {},
   "source": [
    "### Pre-processing"
   ]
  },
  {
   "cell_type": "markdown",
   "id": "2260f45a",
   "metadata": {},
   "source": [
    "##### Replacing special characters in Gender using NaN"
   ]
  },
  {
   "cell_type": "code",
   "execution_count": 273,
   "id": "3a1d9078",
   "metadata": {},
   "outputs": [
    {
     "data": {
      "text/plain": [
       "array(['Male', 'Female', 'Not_Specified', nan, 'ZH#C@', 'VG?H%', 'SA#?I',\n",
       "       'TD%Q@'], dtype=object)"
      ]
     },
     "execution_count": 273,
     "metadata": {},
     "output_type": "execute_result"
    }
   ],
   "source": [
    "train['Gender'].unique()"
   ]
  },
  {
   "cell_type": "code",
   "execution_count": 274,
   "id": "0f1144ab",
   "metadata": {},
   "outputs": [
    {
     "data": {
      "text/plain": [
       "Female           12588\n",
       "Male             12316\n",
       "Not_Specified     4675\n",
       "Name: Gender, dtype: int64"
      ]
     },
     "execution_count": 274,
     "metadata": {},
     "output_type": "execute_result"
    }
   ],
   "source": [
    "train['Gender']=train['Gender'].replace(['ZH#C@', 'VG?H%', 'SA#?I','TD%Q@'],np.NaN)\n",
    "train['Gender'].value_counts()"
   ]
  },
  {
   "cell_type": "code",
   "execution_count": 275,
   "id": "58fbec2c",
   "metadata": {},
   "outputs": [
    {
     "data": {
      "text/plain": [
       "array(['Female', 'Male', nan, 'Not_Specified', 'EV%N?', 'N%E#G'],\n",
       "      dtype=object)"
      ]
     },
     "execution_count": 275,
     "metadata": {},
     "output_type": "execute_result"
    }
   ],
   "source": [
    "test['Gender'].unique()"
   ]
  },
  {
   "cell_type": "code",
   "execution_count": 276,
   "id": "5163907f",
   "metadata": {},
   "outputs": [
    {
     "data": {
      "text/plain": [
       "Female           2074\n",
       "Male             2062\n",
       "Not_Specified     781\n",
       "Name: Gender, dtype: int64"
      ]
     },
     "execution_count": 276,
     "metadata": {},
     "output_type": "execute_result"
    }
   ],
   "source": [
    "test['Gender']=test['Gender'].replace(['EV%N?', 'N%E#G'],np.NaN)\n",
    "test['Gender'].value_counts()"
   ]
  },
  {
   "cell_type": "code",
   "execution_count": 277,
   "id": "93a50eb8",
   "metadata": {},
   "outputs": [
    {
     "data": {
      "text/plain": [
       "Index(['Age', 'Gender', 'City', 'is_Married', 'family_size', 'height',\n",
       "       'annual_income', 'job', 'is_physically_ok', 'has_taken_car_loan',\n",
       "       'preferable_fuel_choice', 'vehicle_choice'],\n",
       "      dtype='object')"
      ]
     },
     "execution_count": 277,
     "metadata": {},
     "output_type": "execute_result"
    }
   ],
   "source": [
    "train.columns"
   ]
  },
  {
   "cell_type": "markdown",
   "id": "1f35a63d",
   "metadata": {},
   "source": [
    "##### Replacing special characters in City using NaN"
   ]
  },
  {
   "cell_type": "code",
   "execution_count": 278,
   "id": "11f64856",
   "metadata": {},
   "outputs": [
    {
     "data": {
      "text/plain": [
       "array(['New York City', 'Paris', 'Vancouver', 'Barcelona', 'Los Angeles',\n",
       "       'Toronto', 'Munich', 'Chennai', 'Florence', 'Budapest', 'Kolkata',\n",
       "       'San Francisco', 'London', 'Mumbai', 'Taipei', 'Kuala Lampur',\n",
       "       'Shinjuku', 'Perth', 'Sydney', 'Berlin', 'Vienna', 'Delhi', nan,\n",
       "       '#VPI@', '#B?TL', '#XY@G', 'P?IX@'], dtype=object)"
      ]
     },
     "execution_count": 278,
     "metadata": {},
     "output_type": "execute_result"
    }
   ],
   "source": [
    "train['City'].unique()"
   ]
  },
  {
   "cell_type": "code",
   "execution_count": 279,
   "id": "37d57b59",
   "metadata": {},
   "outputs": [
    {
     "data": {
      "text/plain": [
       "Barcelona        1456\n",
       "San Francisco    1396\n",
       "Los Angeles      1384\n",
       "Budapest         1382\n",
       "Kolkata          1379\n",
       "New York City    1369\n",
       "Berlin           1355\n",
       "Taipei           1350\n",
       "Kuala Lampur     1347\n",
       "Vienna           1346\n",
       "Munich           1344\n",
       "Florence         1341\n",
       "Toronto          1324\n",
       "Paris            1321\n",
       "Delhi            1319\n",
       "Sydney           1316\n",
       "Chennai          1315\n",
       "Perth            1308\n",
       "Mumbai           1308\n",
       "London           1307\n",
       "Vancouver        1307\n",
       "Shinjuku         1299\n",
       "Name: City, dtype: int64"
      ]
     },
     "execution_count": 279,
     "metadata": {},
     "output_type": "execute_result"
    }
   ],
   "source": [
    "train['City']=train['City'].replace(['ZH#C@', 'VG?H%', '#VPI@', '#B?TL', '#XY@G', 'P?IX@'],np.NaN)\n",
    "train['City'].value_counts()"
   ]
  },
  {
   "cell_type": "code",
   "execution_count": 280,
   "id": "87330e83",
   "metadata": {},
   "outputs": [
    {
     "data": {
      "text/plain": [
       "array(['Delhi', 'Perth', 'Barcelona', 'Kuala Lampur', 'Sydney',\n",
       "       'Vancouver', 'New York City', 'Kolkata', 'Florence', 'Mumbai',\n",
       "       'Chennai', 'Toronto', 'Budapest', 'Taipei', 'Vienna',\n",
       "       'San Francisco', 'Los Angeles', 'Shinjuku', 'London', 'Berlin',\n",
       "       'Paris', 'Munich', nan, '%?ACE'], dtype=object)"
      ]
     },
     "execution_count": 280,
     "metadata": {},
     "output_type": "execute_result"
    }
   ],
   "source": [
    "test['City'].unique()"
   ]
  },
  {
   "cell_type": "code",
   "execution_count": 281,
   "id": "807c8e04",
   "metadata": {},
   "outputs": [
    {
     "data": {
      "text/plain": [
       "New York City    257\n",
       "Delhi            251\n",
       "Toronto          241\n",
       "Florence         238\n",
       "Shinjuku         235\n",
       "Kolkata          232\n",
       "London           232\n",
       "Vancouver        227\n",
       "Munich           223\n",
       "Mumbai           223\n",
       "Budapest         220\n",
       "Taipei           220\n",
       "Berlin           219\n",
       "San Francisco    218\n",
       "Chennai          217\n",
       "Perth            217\n",
       "Paris            214\n",
       "Vienna           214\n",
       "Sydney           212\n",
       "Los Angeles      211\n",
       "Barcelona        207\n",
       "Kuala Lampur     199\n",
       "Name: City, dtype: int64"
      ]
     },
     "execution_count": 281,
     "metadata": {},
     "output_type": "execute_result"
    }
   ],
   "source": [
    "test['City']=test['City'].replace(['%?ACE'],np.NaN)\n",
    "test['City'].value_counts()"
   ]
  },
  {
   "cell_type": "markdown",
   "id": "df08de54",
   "metadata": {},
   "source": [
    "##### Replacing special characters in is_Married using NaN"
   ]
  },
  {
   "cell_type": "code",
   "execution_count": 282,
   "id": "f606bdf7",
   "metadata": {},
   "outputs": [
    {
     "data": {
      "text/plain": [
       "array(['Divorced', 'Single', 'Married', nan, 'T@JF%', 'ORV@#', '?D@NF',\n",
       "       'S#TF%', '@XTZ?'], dtype=object)"
      ]
     },
     "execution_count": 282,
     "metadata": {},
     "output_type": "execute_result"
    }
   ],
   "source": [
    "train['is_Married'].unique()"
   ]
  },
  {
   "cell_type": "code",
   "execution_count": 283,
   "id": "5fac5965",
   "metadata": {},
   "outputs": [
    {
     "data": {
      "text/plain": [
       "Married     13465\n",
       "Single       8528\n",
       "Divorced     7582\n",
       "Name: is_Married, dtype: int64"
      ]
     },
     "execution_count": 283,
     "metadata": {},
     "output_type": "execute_result"
    }
   ],
   "source": [
    "train['is_Married']=train['is_Married'].replace(['T@JF%', 'ORV@#', '?D@NF', 'S#TF%', '@XTZ?'],np.NaN)\n",
    "train['is_Married'].value_counts()"
   ]
  },
  {
   "cell_type": "code",
   "execution_count": 284,
   "id": "30060efc",
   "metadata": {},
   "outputs": [
    {
     "data": {
      "text/plain": [
       "array(['Married', 'Divorced', 'Single', nan], dtype=object)"
      ]
     },
     "execution_count": 284,
     "metadata": {},
     "output_type": "execute_result"
    }
   ],
   "source": [
    "test['is_Married'].unique()"
   ]
  },
  {
   "cell_type": "markdown",
   "id": "23593e9e",
   "metadata": {},
   "source": [
    "##### Replacing special characters in job using NaN"
   ]
  },
  {
   "cell_type": "code",
   "execution_count": 285,
   "id": "cb40e625",
   "metadata": {},
   "outputs": [
    {
     "data": {
      "text/plain": [
       "array(['Service', 'Business', 'Student', nan, 'Undisclosed', 'KBN?#',\n",
       "       'UZT?@', 'Z@B%L', 'TV%?N'], dtype=object)"
      ]
     },
     "execution_count": 285,
     "metadata": {},
     "output_type": "execute_result"
    }
   ],
   "source": [
    "train['job'].unique()"
   ]
  },
  {
   "cell_type": "code",
   "execution_count": 286,
   "id": "48e4ef7b",
   "metadata": {},
   "outputs": [
    {
     "data": {
      "text/plain": [
       "Business       14218\n",
       "Service        11918\n",
       "Student         2870\n",
       "Undisclosed      562\n",
       "Name: job, dtype: int64"
      ]
     },
     "execution_count": 286,
     "metadata": {},
     "output_type": "execute_result"
    }
   ],
   "source": [
    "train['job']=train['job'].replace(['KBN?#', 'UZT?@', 'Z@B%L', 'TV%?N'],np.NaN)\n",
    "train['job'].value_counts()"
   ]
  },
  {
   "cell_type": "code",
   "execution_count": 287,
   "id": "8963c956",
   "metadata": {},
   "outputs": [
    {
     "data": {
      "text/plain": [
       "array(['Service', 'Business', 'Undisclosed', 'Student', nan], dtype=object)"
      ]
     },
     "execution_count": 287,
     "metadata": {},
     "output_type": "execute_result"
    }
   ],
   "source": [
    "test['job'].unique()"
   ]
  },
  {
   "cell_type": "markdown",
   "id": "b6502b01",
   "metadata": {},
   "source": [
    "##### Replacing special characters in is_physically_ok using NaN"
   ]
  },
  {
   "cell_type": "code",
   "execution_count": 288,
   "id": "01167dc7",
   "metadata": {},
   "outputs": [
    {
     "data": {
      "text/plain": [
       "array(['Yes', 'No', nan, 'Y%?UH', 'UY%X@'], dtype=object)"
      ]
     },
     "execution_count": 288,
     "metadata": {},
     "output_type": "execute_result"
    }
   ],
   "source": [
    "train['is_physically_ok'].unique()"
   ]
  },
  {
   "cell_type": "code",
   "execution_count": 289,
   "id": "3bc4d4f4",
   "metadata": {},
   "outputs": [
    {
     "data": {
      "text/plain": [
       "Yes    28295\n",
       "No      1281\n",
       "Name: is_physically_ok, dtype: int64"
      ]
     },
     "execution_count": 289,
     "metadata": {},
     "output_type": "execute_result"
    }
   ],
   "source": [
    "train['is_physically_ok']=train['is_physically_ok'].replace(['Y%?UH', 'UY%X@'],np.NaN)\n",
    "train['is_physically_ok'].value_counts()"
   ]
  },
  {
   "cell_type": "code",
   "execution_count": 290,
   "id": "364865ae",
   "metadata": {},
   "outputs": [
    {
     "data": {
      "text/plain": [
       "array(['Yes', 'No', nan, 'K%#MY'], dtype=object)"
      ]
     },
     "execution_count": 290,
     "metadata": {},
     "output_type": "execute_result"
    }
   ],
   "source": [
    "test['is_physically_ok'].unique()"
   ]
  },
  {
   "cell_type": "code",
   "execution_count": 291,
   "id": "9343b19e",
   "metadata": {},
   "outputs": [
    {
     "data": {
      "text/plain": [
       "Yes    4718\n",
       "No      215\n",
       "Name: is_physically_ok, dtype: int64"
      ]
     },
     "execution_count": 291,
     "metadata": {},
     "output_type": "execute_result"
    }
   ],
   "source": [
    "test['is_physically_ok']=test['is_physically_ok'].replace(['K%#MY'],np.NaN)\n",
    "test['is_physically_ok'].value_counts()"
   ]
  },
  {
   "cell_type": "markdown",
   "id": "b3f917a9",
   "metadata": {},
   "source": [
    "##### Replacing special characters in has_taken_car_loan using NaN"
   ]
  },
  {
   "cell_type": "code",
   "execution_count": 292,
   "id": "cfcadb17",
   "metadata": {},
   "outputs": [
    {
     "data": {
      "text/plain": [
       "array(['Yes', 'No', nan, '@W%GO', '?N%IY', 'AF?V%'], dtype=object)"
      ]
     },
     "execution_count": 292,
     "metadata": {},
     "output_type": "execute_result"
    }
   ],
   "source": [
    "train['has_taken_car_loan'].unique()"
   ]
  },
  {
   "cell_type": "code",
   "execution_count": 293,
   "id": "92cd6ad8",
   "metadata": {},
   "outputs": [
    {
     "data": {
      "text/plain": [
       "No     15444\n",
       "Yes    14122\n",
       "Name: has_taken_car_loan, dtype: int64"
      ]
     },
     "execution_count": 293,
     "metadata": {},
     "output_type": "execute_result"
    }
   ],
   "source": [
    "train['has_taken_car_loan']=train['has_taken_car_loan'].replace(['@W%GO', '?N%IY', 'AF?V%'],np.NaN)\n",
    "train['has_taken_car_loan'].value_counts()"
   ]
  },
  {
   "cell_type": "code",
   "execution_count": 294,
   "id": "b5245238",
   "metadata": {},
   "outputs": [
    {
     "data": {
      "text/plain": [
       "array(['No', nan, 'Yes', 'U#@DX', 'DG?#H'], dtype=object)"
      ]
     },
     "execution_count": 294,
     "metadata": {},
     "output_type": "execute_result"
    }
   ],
   "source": [
    "test['has_taken_car_loan'].unique()"
   ]
  },
  {
   "cell_type": "code",
   "execution_count": 295,
   "id": "84bb772c",
   "metadata": {},
   "outputs": [
    {
     "data": {
      "text/plain": [
       "No     2579\n",
       "Yes    2358\n",
       "Name: has_taken_car_loan, dtype: int64"
      ]
     },
     "execution_count": 295,
     "metadata": {},
     "output_type": "execute_result"
    }
   ],
   "source": [
    "test['has_taken_car_loan']=test['has_taken_car_loan'].replace(['U#@DX', 'DG?#H'],np.NaN)\n",
    "test['has_taken_car_loan'].value_counts()"
   ]
  },
  {
   "cell_type": "markdown",
   "id": "8ba439d4",
   "metadata": {},
   "source": [
    "##### Replacing special characters in preferable_fuel_choice using NaN"
   ]
  },
  {
   "cell_type": "code",
   "execution_count": 296,
   "id": "d0da2efc",
   "metadata": {},
   "outputs": [
    {
     "data": {
      "text/plain": [
       "array(['Hybrid', 'Petrol', 'Diesel', 'EV', nan, 'SVY@#', 'IX%K#', '#%KXJ'],\n",
       "      dtype=object)"
      ]
     },
     "execution_count": 296,
     "metadata": {},
     "output_type": "execute_result"
    }
   ],
   "source": [
    "train['preferable_fuel_choice'].unique()"
   ]
  },
  {
   "cell_type": "code",
   "execution_count": 297,
   "id": "4b25fa29",
   "metadata": {},
   "outputs": [
    {
     "data": {
      "text/plain": [
       "Petrol    12180\n",
       "Diesel    11187\n",
       "Hybrid     5107\n",
       "EV         1095\n",
       "Name: preferable_fuel_choice, dtype: int64"
      ]
     },
     "execution_count": 297,
     "metadata": {},
     "output_type": "execute_result"
    }
   ],
   "source": [
    "train['preferable_fuel_choice']=train['preferable_fuel_choice'].replace(['SVY@#', 'IX%K#', '#%KXJ'],np.NaN)\n",
    "train['preferable_fuel_choice'].value_counts()"
   ]
  },
  {
   "cell_type": "code",
   "execution_count": 298,
   "id": "aad2e84f",
   "metadata": {},
   "outputs": [
    {
     "data": {
      "text/plain": [
       "array(['Diesel', 'Petrol', 'Hybrid', 'EV', nan, 'FC?P%'], dtype=object)"
      ]
     },
     "execution_count": 298,
     "metadata": {},
     "output_type": "execute_result"
    }
   ],
   "source": [
    "test['preferable_fuel_choice'].unique()"
   ]
  },
  {
   "cell_type": "code",
   "execution_count": 299,
   "id": "e72e57ea",
   "metadata": {},
   "outputs": [
    {
     "data": {
      "text/plain": [
       "Petrol    2010\n",
       "Diesel    1873\n",
       "Hybrid     838\n",
       "EV         195\n",
       "Name: preferable_fuel_choice, dtype: int64"
      ]
     },
     "execution_count": 299,
     "metadata": {},
     "output_type": "execute_result"
    }
   ],
   "source": [
    "test['preferable_fuel_choice']=test['preferable_fuel_choice'].replace(['FC?P%'],np.NaN)\n",
    "test['preferable_fuel_choice'].value_counts()"
   ]
  },
  {
   "cell_type": "code",
   "execution_count": 300,
   "id": "44882fcf",
   "metadata": {},
   "outputs": [
    {
     "data": {
      "text/plain": [
       "Age                       439\n",
       "Gender                    421\n",
       "City                      427\n",
       "is_Married                425\n",
       "family_size               414\n",
       "height                    431\n",
       "annual_income             419\n",
       "job                       432\n",
       "is_physically_ok          424\n",
       "has_taken_car_loan        434\n",
       "preferable_fuel_choice    431\n",
       "vehicle_choice              0\n",
       "dtype: int64"
      ]
     },
     "execution_count": 300,
     "metadata": {},
     "output_type": "execute_result"
    }
   ],
   "source": [
    "train.isnull().sum()# checking the null values"
   ]
  },
  {
   "cell_type": "code",
   "execution_count": 301,
   "id": "1f820ce6",
   "metadata": {},
   "outputs": [
    {
     "data": {
      "text/plain": [
       "Age                       float64\n",
       "Gender                     object\n",
       "City                       object\n",
       "is_Married                 object\n",
       "family_size               float64\n",
       "height                    float64\n",
       "annual_income             float64\n",
       "job                        object\n",
       "is_physically_ok           object\n",
       "has_taken_car_loan         object\n",
       "preferable_fuel_choice     object\n",
       "vehicle_choice             object\n",
       "dtype: object"
      ]
     },
     "execution_count": 301,
     "metadata": {},
     "output_type": "execute_result"
    }
   ],
   "source": [
    "train.dtypes# checking the datatypes"
   ]
  },
  {
   "cell_type": "code",
   "execution_count": 302,
   "id": "118682f4",
   "metadata": {},
   "outputs": [
    {
     "data": {
      "text/plain": [
       "Index(['Age', 'Gender', 'City', 'is_Married', 'family_size', 'height',\n",
       "       'annual_income', 'job', 'is_physically_ok', 'has_taken_car_loan',\n",
       "       'preferable_fuel_choice', 'vehicle_choice'],\n",
       "      dtype='object')"
      ]
     },
     "execution_count": 302,
     "metadata": {},
     "output_type": "execute_result"
    }
   ],
   "source": [
    "train.columns"
   ]
  },
  {
   "cell_type": "markdown",
   "id": "eeee9a1e",
   "metadata": {},
   "source": [
    "### Filling the null values"
   ]
  },
  {
   "cell_type": "code",
   "execution_count": null,
   "id": "4111ca68",
   "metadata": {},
   "outputs": [],
   "source": []
  },
  {
   "cell_type": "code",
   "execution_count": 303,
   "id": "9fe07af6",
   "metadata": {},
   "outputs": [
    {
     "name": "stdout",
     "output_type": "stream",
     "text": [
      "Mode of Gender is:\n",
      "0    Female\n",
      "dtype: object\n",
      "Mode of City is:\n",
      "0    Barcelona\n",
      "dtype: object\n",
      "Mode of is_Married is:\n",
      "0    Married\n",
      "dtype: object\n",
      "Mode of job is:\n",
      "0    Business\n",
      "dtype: object\n",
      "Mode of is_physically_ok is:\n",
      "0    Yes\n",
      "dtype: object\n",
      "Mode of has_taken_car_loan is:\n",
      "0    No\n",
      "dtype: object\n",
      "Mode of preferable_fuel_choice is:\n",
      "0    Petrol\n",
      "dtype: object\n"
     ]
    }
   ],
   "source": [
    "# grouping categorical variables together\n",
    "categorical_columns = [ 'Gender', 'City', 'is_Married', 'job', 'is_physically_ok', 'has_taken_car_loan',\n",
    "                       'preferable_fuel_choice']\n",
    "#finding the mode\n",
    "for column in categorical_columns:\n",
    "    print('Mode of',column, 'is:')\n",
    "    print(train[column].mode())\n",
    "    \n",
    "   "
   ]
  },
  {
   "cell_type": "markdown",
   "id": "19b3d636",
   "metadata": {},
   "source": [
    "#### Replacing the NaN values of categorical variables with mode."
   ]
  },
  {
   "cell_type": "code",
   "execution_count": 304,
   "id": "d05be902",
   "metadata": {},
   "outputs": [],
   "source": [
    "train['Gender'] =train['Gender'].fillna('Female')\n",
    "test['Gender'] =test['Gender'].fillna('Female')\n",
    "#train"
   ]
  },
  {
   "cell_type": "code",
   "execution_count": 305,
   "id": "56040b3d",
   "metadata": {},
   "outputs": [],
   "source": [
    "train['City'] =train['City'].fillna('Barcelona')\n",
    "test['City'] =test['City'].fillna('Barcelona')"
   ]
  },
  {
   "cell_type": "code",
   "execution_count": 306,
   "id": "809f0ecc",
   "metadata": {},
   "outputs": [],
   "source": [
    "train['is_Married'] =train['is_Married'].fillna('Married')\n",
    "test['is_Married'] =test['is_Married'].fillna('Married')"
   ]
  },
  {
   "cell_type": "code",
   "execution_count": 307,
   "id": "ddfe2135",
   "metadata": {},
   "outputs": [],
   "source": [
    "train['job'] =train['job'].fillna('Business')\n",
    "test['job'] =test['job'].fillna('Business')"
   ]
  },
  {
   "cell_type": "code",
   "execution_count": 308,
   "id": "2808ff13",
   "metadata": {},
   "outputs": [],
   "source": [
    "train['is_physically_ok'] =train['is_physically_ok'].fillna('Yes')\n",
    "test['is_physically_ok'] =test['is_physically_ok'].fillna('Yes')"
   ]
  },
  {
   "cell_type": "code",
   "execution_count": 309,
   "id": "8b575538",
   "metadata": {},
   "outputs": [],
   "source": [
    "train['has_taken_car_loan'] =train['has_taken_car_loan'].fillna('No')\n",
    "test['has_taken_car_loan'] =test['has_taken_car_loan'].fillna('No')"
   ]
  },
  {
   "cell_type": "code",
   "execution_count": 310,
   "id": "4982f21b",
   "metadata": {},
   "outputs": [],
   "source": [
    "train['preferable_fuel_choice'] =train['preferable_fuel_choice'].fillna('Petrol')\n",
    "test['preferable_fuel_choice'] =test['preferable_fuel_choice'].fillna('Petrol')"
   ]
  },
  {
   "cell_type": "code",
   "execution_count": 311,
   "id": "ee22af32",
   "metadata": {},
   "outputs": [
    {
     "data": {
      "text/html": [
       "<div>\n",
       "<style scoped>\n",
       "    .dataframe tbody tr th:only-of-type {\n",
       "        vertical-align: middle;\n",
       "    }\n",
       "\n",
       "    .dataframe tbody tr th {\n",
       "        vertical-align: top;\n",
       "    }\n",
       "\n",
       "    .dataframe thead th {\n",
       "        text-align: right;\n",
       "    }\n",
       "</style>\n",
       "<table border=\"1\" class=\"dataframe\">\n",
       "  <thead>\n",
       "    <tr style=\"text-align: right;\">\n",
       "      <th></th>\n",
       "      <th>Age</th>\n",
       "      <th>Gender</th>\n",
       "      <th>City</th>\n",
       "      <th>is_Married</th>\n",
       "      <th>family_size</th>\n",
       "      <th>height</th>\n",
       "      <th>annual_income</th>\n",
       "      <th>job</th>\n",
       "      <th>is_physically_ok</th>\n",
       "      <th>has_taken_car_loan</th>\n",
       "      <th>preferable_fuel_choice</th>\n",
       "      <th>vehicle_choice</th>\n",
       "    </tr>\n",
       "    <tr>\n",
       "      <th>CustomerID</th>\n",
       "      <th></th>\n",
       "      <th></th>\n",
       "      <th></th>\n",
       "      <th></th>\n",
       "      <th></th>\n",
       "      <th></th>\n",
       "      <th></th>\n",
       "      <th></th>\n",
       "      <th></th>\n",
       "      <th></th>\n",
       "      <th></th>\n",
       "      <th></th>\n",
       "    </tr>\n",
       "  </thead>\n",
       "  <tbody>\n",
       "    <tr>\n",
       "      <th>CusID_00000</th>\n",
       "      <td>36.0</td>\n",
       "      <td>Male</td>\n",
       "      <td>New York City</td>\n",
       "      <td>Divorced</td>\n",
       "      <td>2.0</td>\n",
       "      <td>160.0</td>\n",
       "      <td>32200.0</td>\n",
       "      <td>Service</td>\n",
       "      <td>Yes</td>\n",
       "      <td>Yes</td>\n",
       "      <td>Hybrid</td>\n",
       "      <td>Sedan</td>\n",
       "    </tr>\n",
       "    <tr>\n",
       "      <th>CusID_00001</th>\n",
       "      <td>15.0</td>\n",
       "      <td>Female</td>\n",
       "      <td>New York City</td>\n",
       "      <td>Single</td>\n",
       "      <td>1.0</td>\n",
       "      <td>143.0</td>\n",
       "      <td>9000.0</td>\n",
       "      <td>Service</td>\n",
       "      <td>Yes</td>\n",
       "      <td>Yes</td>\n",
       "      <td>Petrol</td>\n",
       "      <td>Compact Utility Vehicle</td>\n",
       "    </tr>\n",
       "    <tr>\n",
       "      <th>CusID_00002</th>\n",
       "      <td>55.0</td>\n",
       "      <td>Male</td>\n",
       "      <td>Paris</td>\n",
       "      <td>Married</td>\n",
       "      <td>2.0</td>\n",
       "      <td>168.0</td>\n",
       "      <td>152400.0</td>\n",
       "      <td>Service</td>\n",
       "      <td>Yes</td>\n",
       "      <td>No</td>\n",
       "      <td>Petrol</td>\n",
       "      <td>Sports Sedan</td>\n",
       "    </tr>\n",
       "    <tr>\n",
       "      <th>CusID_00003</th>\n",
       "      <td>23.0</td>\n",
       "      <td>Male</td>\n",
       "      <td>Vancouver</td>\n",
       "      <td>Divorced</td>\n",
       "      <td>3.0</td>\n",
       "      <td>165.0</td>\n",
       "      <td>141140.0</td>\n",
       "      <td>Business</td>\n",
       "      <td>Yes</td>\n",
       "      <td>No</td>\n",
       "      <td>Diesel</td>\n",
       "      <td>Sportscar</td>\n",
       "    </tr>\n",
       "    <tr>\n",
       "      <th>CusID_00004</th>\n",
       "      <td>23.0</td>\n",
       "      <td>Not_Specified</td>\n",
       "      <td>Vancouver</td>\n",
       "      <td>Single</td>\n",
       "      <td>1.0</td>\n",
       "      <td>147.0</td>\n",
       "      <td>38100.0</td>\n",
       "      <td>Service</td>\n",
       "      <td>Yes</td>\n",
       "      <td>Yes</td>\n",
       "      <td>Hybrid</td>\n",
       "      <td>Sports Utility Vehicle</td>\n",
       "    </tr>\n",
       "    <tr>\n",
       "      <th>...</th>\n",
       "      <td>...</td>\n",
       "      <td>...</td>\n",
       "      <td>...</td>\n",
       "      <td>...</td>\n",
       "      <td>...</td>\n",
       "      <td>...</td>\n",
       "      <td>...</td>\n",
       "      <td>...</td>\n",
       "      <td>...</td>\n",
       "      <td>...</td>\n",
       "      <td>...</td>\n",
       "      <td>...</td>\n",
       "    </tr>\n",
       "    <tr>\n",
       "      <th>CusID_29995</th>\n",
       "      <td>24.0</td>\n",
       "      <td>Female</td>\n",
       "      <td>Vienna</td>\n",
       "      <td>Divorced</td>\n",
       "      <td>3.0</td>\n",
       "      <td>155.0</td>\n",
       "      <td>91320.0</td>\n",
       "      <td>Business</td>\n",
       "      <td>Yes</td>\n",
       "      <td>No</td>\n",
       "      <td>Petrol</td>\n",
       "      <td>Sedan</td>\n",
       "    </tr>\n",
       "    <tr>\n",
       "      <th>CusID_29996</th>\n",
       "      <td>32.0</td>\n",
       "      <td>Female</td>\n",
       "      <td>Shinjuku</td>\n",
       "      <td>Married</td>\n",
       "      <td>5.0</td>\n",
       "      <td>163.0</td>\n",
       "      <td>133210.0</td>\n",
       "      <td>Business</td>\n",
       "      <td>Yes</td>\n",
       "      <td>No</td>\n",
       "      <td>Diesel</td>\n",
       "      <td>Sports Utility Vehicle</td>\n",
       "    </tr>\n",
       "    <tr>\n",
       "      <th>CusID_29997</th>\n",
       "      <td>24.0</td>\n",
       "      <td>Female</td>\n",
       "      <td>San Francisco</td>\n",
       "      <td>Single</td>\n",
       "      <td>1.0</td>\n",
       "      <td>152.0</td>\n",
       "      <td>87300.0</td>\n",
       "      <td>Service</td>\n",
       "      <td>Yes</td>\n",
       "      <td>No</td>\n",
       "      <td>Petrol</td>\n",
       "      <td>Luxury Sedan</td>\n",
       "    </tr>\n",
       "    <tr>\n",
       "      <th>CusID_29998</th>\n",
       "      <td>30.0</td>\n",
       "      <td>Female</td>\n",
       "      <td>Vienna</td>\n",
       "      <td>Married</td>\n",
       "      <td>2.0</td>\n",
       "      <td>139.0</td>\n",
       "      <td>94580.0</td>\n",
       "      <td>Business</td>\n",
       "      <td>Yes</td>\n",
       "      <td>No</td>\n",
       "      <td>Petrol</td>\n",
       "      <td>Sports Utility Vehicle</td>\n",
       "    </tr>\n",
       "    <tr>\n",
       "      <th>CusID_29999</th>\n",
       "      <td>30.0</td>\n",
       "      <td>Female</td>\n",
       "      <td>Florence</td>\n",
       "      <td>Single</td>\n",
       "      <td>1.0</td>\n",
       "      <td>137.0</td>\n",
       "      <td>54380.0</td>\n",
       "      <td>Business</td>\n",
       "      <td>Yes</td>\n",
       "      <td>Yes</td>\n",
       "      <td>Petrol</td>\n",
       "      <td>Luxury Sedan</td>\n",
       "    </tr>\n",
       "  </tbody>\n",
       "</table>\n",
       "<p>30000 rows × 12 columns</p>\n",
       "</div>"
      ],
      "text/plain": [
       "              Age         Gender           City is_Married  family_size  \\\n",
       "CustomerID                                                                \n",
       "CusID_00000  36.0           Male  New York City   Divorced          2.0   \n",
       "CusID_00001  15.0         Female  New York City     Single          1.0   \n",
       "CusID_00002  55.0           Male          Paris    Married          2.0   \n",
       "CusID_00003  23.0           Male      Vancouver   Divorced          3.0   \n",
       "CusID_00004  23.0  Not_Specified      Vancouver     Single          1.0   \n",
       "...           ...            ...            ...        ...          ...   \n",
       "CusID_29995  24.0         Female         Vienna   Divorced          3.0   \n",
       "CusID_29996  32.0         Female       Shinjuku    Married          5.0   \n",
       "CusID_29997  24.0         Female  San Francisco     Single          1.0   \n",
       "CusID_29998  30.0         Female         Vienna    Married          2.0   \n",
       "CusID_29999  30.0         Female       Florence     Single          1.0   \n",
       "\n",
       "             height  annual_income       job is_physically_ok  \\\n",
       "CustomerID                                                      \n",
       "CusID_00000   160.0        32200.0   Service              Yes   \n",
       "CusID_00001   143.0         9000.0   Service              Yes   \n",
       "CusID_00002   168.0       152400.0   Service              Yes   \n",
       "CusID_00003   165.0       141140.0  Business              Yes   \n",
       "CusID_00004   147.0        38100.0   Service              Yes   \n",
       "...             ...            ...       ...              ...   \n",
       "CusID_29995   155.0        91320.0  Business              Yes   \n",
       "CusID_29996   163.0       133210.0  Business              Yes   \n",
       "CusID_29997   152.0        87300.0   Service              Yes   \n",
       "CusID_29998   139.0        94580.0  Business              Yes   \n",
       "CusID_29999   137.0        54380.0  Business              Yes   \n",
       "\n",
       "            has_taken_car_loan preferable_fuel_choice           vehicle_choice  \n",
       "CustomerID                                                                      \n",
       "CusID_00000                Yes                 Hybrid                    Sedan  \n",
       "CusID_00001                Yes                 Petrol  Compact Utility Vehicle  \n",
       "CusID_00002                 No                 Petrol             Sports Sedan  \n",
       "CusID_00003                 No                 Diesel                Sportscar  \n",
       "CusID_00004                Yes                 Hybrid   Sports Utility Vehicle  \n",
       "...                        ...                    ...                      ...  \n",
       "CusID_29995                 No                 Petrol                    Sedan  \n",
       "CusID_29996                 No                 Diesel   Sports Utility Vehicle  \n",
       "CusID_29997                 No                 Petrol             Luxury Sedan  \n",
       "CusID_29998                 No                 Petrol   Sports Utility Vehicle  \n",
       "CusID_29999                Yes                 Petrol             Luxury Sedan  \n",
       "\n",
       "[30000 rows x 12 columns]"
      ]
     },
     "execution_count": 311,
     "metadata": {},
     "output_type": "execute_result"
    }
   ],
   "source": [
    "# grouping numerical variables together\n",
    "numerical_columns=['Age', 'family_size', 'height','annual_income']\n",
    "\n",
    "# replacing the null values with median\n",
    "for column in numerical_columns:\n",
    "    train[column] =train[column].replace(np.NaN,train[column].median())\n",
    "    test[column] =test[column].replace(np.NaN,test[column].median())\n",
    "train"
   ]
  },
  {
   "cell_type": "markdown",
   "id": "c8e1c3f7",
   "metadata": {},
   "source": [
    "#### Handling the outliers"
   ]
  },
  {
   "cell_type": "code",
   "execution_count": 312,
   "id": "c1e3a993",
   "metadata": {},
   "outputs": [
    {
     "data": {
      "text/plain": [
       "Age              1006\n",
       "family_size         0\n",
       "height              0\n",
       "annual_income     263\n",
       "dtype: int64"
      ]
     },
     "execution_count": 312,
     "metadata": {},
     "output_type": "execute_result"
    }
   ],
   "source": [
    "#Finding the 25th percentile and 75th percentiles.\n",
    "Q1 = train.quantile(0.25)             \n",
    "Q3 = train.quantile(0.75)\n",
    "\n",
    " #Inter Quantile Range (75th perentile - 25th percentile)\n",
    "IQR = Q3 - Q1                          \n",
    "\n",
    "#Finding lower and upper bounds for all values. All values outside these bounds are outliers\n",
    "lower_limit=Q1-1.5*IQR                        \n",
    "upper_limit=Q3+1.5*IQR\n",
    "\n",
    "#Finding the sum of the outliers in each column of int and float types.\n",
    "((train.select_dtypes(include=['float64','int64'])<lower_limit) | (train.select_dtypes(include=['float64','int64'])>upper_limit)).sum()"
   ]
  },
  {
   "cell_type": "code",
   "execution_count": 313,
   "id": "e80c761d",
   "metadata": {
    "scrolled": true
   },
   "outputs": [
    {
     "data": {
      "text/plain": [
       "Text(0.5, 1.0, 'Box plot  of Age  (before handling outliers)')"
      ]
     },
     "execution_count": 313,
     "metadata": {},
     "output_type": "execute_result"
    },
    {
     "data": {
      "image/png": "[encoded data removed]",
      "text/plain": [
       "<Figure size 432x288 with 1 Axes>"
      ]
     },
     "metadata": {
      "needs_background": "light"
     },
     "output_type": "display_data"
    }
   ],
   "source": [
    "plt.boxplot(train['Age'])\n",
    "plt.title('Box plot  of Age  (before handling outliers)')"
   ]
  },
  {
   "cell_type": "code",
   "execution_count": 314,
   "id": "e1fa0cb8",
   "metadata": {},
   "outputs": [
    {
     "data": {
      "text/plain": [
       "Text(0.5, 1.0, 'Box plot  of annual_income  (before handling outliers)')"
      ]
     },
     "execution_count": 314,
     "metadata": {},
     "output_type": "execute_result"
    },
    {
     "data": {
      "image/png": "[encoded data removed]",
      "text/plain": [
       "<Figure size 432x288 with 1 Axes>"
      ]
     },
     "metadata": {
      "needs_background": "light"
     },
     "output_type": "display_data"
    }
   ],
   "source": [
    "plt.boxplot(train['annual_income'])\n",
    "plt.title('Box plot  of annual_income  (before handling outliers)')"
   ]
  },
  {
   "cell_type": "markdown",
   "id": "8a1a33ca",
   "metadata": {},
   "source": [
    "-Outliers are retained as they are not unwanted values.  "
   ]
  },
  {
   "cell_type": "code",
   "execution_count": 318,
   "id": "43d520c1",
   "metadata": {},
   "outputs": [],
   "source": [
    "# Performing label encoding to the categorical variables.\n",
    "from sklearn.preprocessing import LabelEncoder\n",
    "le = LabelEncoder()\n",
    "categorical_columns = ['Gender', 'City', 'is_Married', 'job', 'is_physically_ok', 'has_taken_car_loan',\n",
    "                       'preferable_fuel_choice']\n",
    "for column in categorical_columns:\n",
    "    train[column] = le.fit_transform(train[column])\n",
    "    test[column] = le.fit_transform(test[column])"
   ]
  },
  {
   "cell_type": "code",
   "execution_count": 319,
   "id": "acf23d72",
   "metadata": {},
   "outputs": [
    {
     "name": "stdout",
     "output_type": "stream",
     "text": [
      "{0: 0, 1: 1, 2: 2, 3: 3, 4: 4, 5: 5, 6: 6, 7: 7, 8: 8, 9: 9, 10: 10, 11: 11, 12: 12, 13: 13, 14: 14, 15: 15, 16: 16, 17: 17}\n"
     ]
    }
   ],
   "source": [
    "# Performing label encoding to the target variable.\n",
    "train['vehicle_choice'] = le.fit_transform(train['vehicle_choice'])\n",
    "mapping = dict(zip(le.classes_, le.transform(le.classes_)))\n",
    "print(mapping)# displaying the encoded values"
   ]
  },
  {
   "cell_type": "markdown",
   "id": "01cc63c7",
   "metadata": {},
   "source": [
    "## Standardisation"
   ]
  },
  {
   "cell_type": "code",
   "execution_count": 321,
   "id": "f9e289be",
   "metadata": {},
   "outputs": [],
   "source": [
    "#standardisation of train data\n",
    "from sklearn.preprocessing import StandardScaler\n",
    "col_names = ['Age', 'height', 'annual_income']\n",
    "features = train[col_names]\n",
    "scaler = StandardScaler().fit(features.values)\n",
    "features = scaler.transform(features.values)\n",
    "train[col_names] = features\n"
   ]
  },
  {
   "cell_type": "code",
   "execution_count": 322,
   "id": "4430f63d",
   "metadata": {},
   "outputs": [],
   "source": [
    "#standardisation of test data\n",
    "col_names = ['Age', 'height', 'annual_income']\n",
    "features = test[col_names]\n",
    "scaler = StandardScaler().fit(features.values)\n",
    "features = scaler.transform(features.values)\n",
    "test[col_names] = features"
   ]
  },
  {
   "cell_type": "code",
   "execution_count": 323,
   "id": "b7493a5d",
   "metadata": {},
   "outputs": [
    {
     "data": {
      "text/html": [
       "<div>\n",
       "<style scoped>\n",
       "    .dataframe tbody tr th:only-of-type {\n",
       "        vertical-align: middle;\n",
       "    }\n",
       "\n",
       "    .dataframe tbody tr th {\n",
       "        vertical-align: top;\n",
       "    }\n",
       "\n",
       "    .dataframe thead th {\n",
       "        text-align: right;\n",
       "    }\n",
       "</style>\n",
       "<table border=\"1\" class=\"dataframe\">\n",
       "  <thead>\n",
       "    <tr style=\"text-align: right;\">\n",
       "      <th></th>\n",
       "      <th>Age</th>\n",
       "      <th>Gender</th>\n",
       "      <th>City</th>\n",
       "      <th>is_Married</th>\n",
       "      <th>family_size</th>\n",
       "      <th>height</th>\n",
       "      <th>annual_income</th>\n",
       "      <th>job</th>\n",
       "      <th>is_physically_ok</th>\n",
       "      <th>has_taken_car_loan</th>\n",
       "      <th>preferable_fuel_choice</th>\n",
       "      <th>vehicle_choice</th>\n",
       "    </tr>\n",
       "    <tr>\n",
       "      <th>CustomerID</th>\n",
       "      <th></th>\n",
       "      <th></th>\n",
       "      <th></th>\n",
       "      <th></th>\n",
       "      <th></th>\n",
       "      <th></th>\n",
       "      <th></th>\n",
       "      <th></th>\n",
       "      <th></th>\n",
       "      <th></th>\n",
       "      <th></th>\n",
       "      <th></th>\n",
       "    </tr>\n",
       "  </thead>\n",
       "  <tbody>\n",
       "    <tr>\n",
       "      <th>CusID_00000</th>\n",
       "      <td>0.510168</td>\n",
       "      <td>1</td>\n",
       "      <td>12</td>\n",
       "      <td>0</td>\n",
       "      <td>2.0</td>\n",
       "      <td>0.630076</td>\n",
       "      <td>-0.868589</td>\n",
       "      <td>1</td>\n",
       "      <td>1</td>\n",
       "      <td>1</td>\n",
       "      <td>2</td>\n",
       "      <td>10</td>\n",
       "    </tr>\n",
       "    <tr>\n",
       "      <th>CusID_00001</th>\n",
       "      <td>-1.625675</td>\n",
       "      <td>0</td>\n",
       "      <td>12</td>\n",
       "      <td>2</td>\n",
       "      <td>1.0</td>\n",
       "      <td>-0.902086</td>\n",
       "      <td>-1.252849</td>\n",
       "      <td>1</td>\n",
       "      <td>1</td>\n",
       "      <td>1</td>\n",
       "      <td>3</td>\n",
       "      <td>1</td>\n",
       "    </tr>\n",
       "    <tr>\n",
       "      <th>CusID_00002</th>\n",
       "      <td>2.442598</td>\n",
       "      <td>1</td>\n",
       "      <td>13</td>\n",
       "      <td>1</td>\n",
       "      <td>2.0</td>\n",
       "      <td>1.351094</td>\n",
       "      <td>1.122276</td>\n",
       "      <td>1</td>\n",
       "      <td>1</td>\n",
       "      <td>0</td>\n",
       "      <td>3</td>\n",
       "      <td>12</td>\n",
       "    </tr>\n",
       "    <tr>\n",
       "      <th>CusID_00003</th>\n",
       "      <td>-0.812020</td>\n",
       "      <td>1</td>\n",
       "      <td>20</td>\n",
       "      <td>0</td>\n",
       "      <td>3.0</td>\n",
       "      <td>1.080712</td>\n",
       "      <td>0.935777</td>\n",
       "      <td>0</td>\n",
       "      <td>1</td>\n",
       "      <td>0</td>\n",
       "      <td>0</td>\n",
       "      <td>14</td>\n",
       "    </tr>\n",
       "    <tr>\n",
       "      <th>CusID_00004</th>\n",
       "      <td>-0.812020</td>\n",
       "      <td>2</td>\n",
       "      <td>20</td>\n",
       "      <td>2</td>\n",
       "      <td>1.0</td>\n",
       "      <td>-0.541577</td>\n",
       "      <td>-0.770868</td>\n",
       "      <td>1</td>\n",
       "      <td>1</td>\n",
       "      <td>1</td>\n",
       "      <td>2</td>\n",
       "      <td>13</td>\n",
       "    </tr>\n",
       "    <tr>\n",
       "      <th>...</th>\n",
       "      <td>...</td>\n",
       "      <td>...</td>\n",
       "      <td>...</td>\n",
       "      <td>...</td>\n",
       "      <td>...</td>\n",
       "      <td>...</td>\n",
       "      <td>...</td>\n",
       "      <td>...</td>\n",
       "      <td>...</td>\n",
       "      <td>...</td>\n",
       "      <td>...</td>\n",
       "      <td>...</td>\n",
       "    </tr>\n",
       "    <tr>\n",
       "      <th>CusID_29995</th>\n",
       "      <td>-0.710314</td>\n",
       "      <td>0</td>\n",
       "      <td>21</td>\n",
       "      <td>0</td>\n",
       "      <td>3.0</td>\n",
       "      <td>0.179440</td>\n",
       "      <td>0.110612</td>\n",
       "      <td>0</td>\n",
       "      <td>1</td>\n",
       "      <td>0</td>\n",
       "      <td>3</td>\n",
       "      <td>10</td>\n",
       "    </tr>\n",
       "    <tr>\n",
       "      <th>CusID_29996</th>\n",
       "      <td>0.103341</td>\n",
       "      <td>0</td>\n",
       "      <td>16</td>\n",
       "      <td>1</td>\n",
       "      <td>5.0</td>\n",
       "      <td>0.900458</td>\n",
       "      <td>0.804433</td>\n",
       "      <td>0</td>\n",
       "      <td>1</td>\n",
       "      <td>0</td>\n",
       "      <td>0</td>\n",
       "      <td>13</td>\n",
       "    </tr>\n",
       "    <tr>\n",
       "      <th>CusID_29997</th>\n",
       "      <td>-0.710314</td>\n",
       "      <td>0</td>\n",
       "      <td>15</td>\n",
       "      <td>2</td>\n",
       "      <td>1.0</td>\n",
       "      <td>-0.090941</td>\n",
       "      <td>0.044029</td>\n",
       "      <td>1</td>\n",
       "      <td>1</td>\n",
       "      <td>0</td>\n",
       "      <td>3</td>\n",
       "      <td>7</td>\n",
       "    </tr>\n",
       "    <tr>\n",
       "      <th>CusID_29998</th>\n",
       "      <td>-0.100073</td>\n",
       "      <td>0</td>\n",
       "      <td>21</td>\n",
       "      <td>1</td>\n",
       "      <td>2.0</td>\n",
       "      <td>-1.262595</td>\n",
       "      <td>0.164607</td>\n",
       "      <td>0</td>\n",
       "      <td>1</td>\n",
       "      <td>0</td>\n",
       "      <td>3</td>\n",
       "      <td>13</td>\n",
       "    </tr>\n",
       "    <tr>\n",
       "      <th>CusID_29999</th>\n",
       "      <td>-0.100073</td>\n",
       "      <td>0</td>\n",
       "      <td>5</td>\n",
       "      <td>2</td>\n",
       "      <td>1.0</td>\n",
       "      <td>-1.442849</td>\n",
       "      <td>-0.501223</td>\n",
       "      <td>0</td>\n",
       "      <td>1</td>\n",
       "      <td>1</td>\n",
       "      <td>3</td>\n",
       "      <td>7</td>\n",
       "    </tr>\n",
       "  </tbody>\n",
       "</table>\n",
       "<p>30000 rows × 12 columns</p>\n",
       "</div>"
      ],
      "text/plain": [
       "                  Age  Gender  City  is_Married  family_size    height  \\\n",
       "CustomerID                                                               \n",
       "CusID_00000  0.510168       1    12           0          2.0  0.630076   \n",
       "CusID_00001 -1.625675       0    12           2          1.0 -0.902086   \n",
       "CusID_00002  2.442598       1    13           1          2.0  1.351094   \n",
       "CusID_00003 -0.812020       1    20           0          3.0  1.080712   \n",
       "CusID_00004 -0.812020       2    20           2          1.0 -0.541577   \n",
       "...               ...     ...   ...         ...          ...       ...   \n",
       "CusID_29995 -0.710314       0    21           0          3.0  0.179440   \n",
       "CusID_29996  0.103341       0    16           1          5.0  0.900458   \n",
       "CusID_29997 -0.710314       0    15           2          1.0 -0.090941   \n",
       "CusID_29998 -0.100073       0    21           1          2.0 -1.262595   \n",
       "CusID_29999 -0.100073       0     5           2          1.0 -1.442849   \n",
       "\n",
       "             annual_income  job  is_physically_ok  has_taken_car_loan  \\\n",
       "CustomerID                                                              \n",
       "CusID_00000      -0.868589    1                 1                   1   \n",
       "CusID_00001      -1.252849    1                 1                   1   \n",
       "CusID_00002       1.122276    1                 1                   0   \n",
       "CusID_00003       0.935777    0                 1                   0   \n",
       "CusID_00004      -0.770868    1                 1                   1   \n",
       "...                    ...  ...               ...                 ...   \n",
       "CusID_29995       0.110612    0                 1                   0   \n",
       "CusID_29996       0.804433    0                 1                   0   \n",
       "CusID_29997       0.044029    1                 1                   0   \n",
       "CusID_29998       0.164607    0                 1                   0   \n",
       "CusID_29999      -0.501223    0                 1                   1   \n",
       "\n",
       "             preferable_fuel_choice  vehicle_choice  \n",
       "CustomerID                                           \n",
       "CusID_00000                       2              10  \n",
       "CusID_00001                       3               1  \n",
       "CusID_00002                       3              12  \n",
       "CusID_00003                       0              14  \n",
       "CusID_00004                       2              13  \n",
       "...                             ...             ...  \n",
       "CusID_29995                       3              10  \n",
       "CusID_29996                       0              13  \n",
       "CusID_29997                       3               7  \n",
       "CusID_29998                       3              13  \n",
       "CusID_29999                       3               7  \n",
       "\n",
       "[30000 rows x 12 columns]"
      ]
     },
     "execution_count": 323,
     "metadata": {},
     "output_type": "execute_result"
    }
   ],
   "source": [
    "train"
   ]
  },
  {
   "cell_type": "markdown",
   "id": "9b0ef370",
   "metadata": {},
   "source": [
    "### Modelling"
   ]
  },
  {
   "cell_type": "code",
   "execution_count": 324,
   "id": "8dc44bd8",
   "metadata": {},
   "outputs": [],
   "source": [
    "# Assigning input and target varible for modelling\n",
    "X=train.drop(['vehicle_choice'],axis=1)\n",
    "y=train['vehicle_choice']"
   ]
  },
  {
   "cell_type": "code",
   "execution_count": 325,
   "id": "c9518ac3",
   "metadata": {},
   "outputs": [
    {
     "data": {
      "text/plain": [
       "(30000,)"
      ]
     },
     "execution_count": 325,
     "metadata": {},
     "output_type": "execute_result"
    }
   ],
   "source": [
    "y.shape"
   ]
  },
  {
   "cell_type": "code",
   "execution_count": 326,
   "id": "f1d19c83",
   "metadata": {},
   "outputs": [],
   "source": [
    "#importing train_test_split from the scikit-learn library\n",
    "from sklearn.model_selection import train_test_split\n",
    "\n",
    "# we have to split the data into training and testing parts \n",
    "X_train,X_test,y_train,y_test = train_test_split(X,y,random_state=42,test_size=0.2)"
   ]
  },
  {
   "cell_type": "markdown",
   "id": "feec7410",
   "metadata": {},
   "source": [
    "#### 1.Logistic Regression"
   ]
  },
  {
   "cell_type": "code",
   "execution_count": 330,
   "id": "4d7cb883",
   "metadata": {},
   "outputs": [
    {
     "name": "stderr",
     "output_type": "stream",
     "text": [
      "C:\\Users\\DELNA.RAPHEL\\Anaconda3\\lib\\site-packages\\sklearn\\linear_model\\_logistic.py:814: ConvergenceWarning: lbfgs failed to converge (status=1):\n",
      "STOP: TOTAL NO. of ITERATIONS REACHED LIMIT.\n",
      "\n",
      "Increase the number of iterations (max_iter) or scale the data as shown in:\n",
      "    https://scikit-learn.org/stable/modules/preprocessing.html\n",
      "Please also refer to the documentation for alternative solver options:\n",
      "    https://scikit-learn.org/stable/modules/linear_model.html#logistic-regression\n",
      "  n_iter_i = _check_optimize_result(\n"
     ]
    }
   ],
   "source": [
    "#importing  Logistic regression from the scikit-learn library \n",
    "from sklearn.linear_model import LogisticRegression\n",
    "\n",
    "\n",
    "# create instance of the model and storing it to variable logit_model\n",
    "logit_model = LogisticRegression()\n",
    "\n",
    "# fit this into xtrain and y train to create the model\n",
    "logit_model.fit(X_train,y_train)\n",
    "\n",
    "# next predict the values in the x test using this model created\n",
    "# and storing those values to variable y_pred\n",
    "y_pred_log = logit_model.predict(X_test)\n"
   ]
  },
  {
   "cell_type": "code",
   "execution_count": 328,
   "id": "7b2e7e35",
   "metadata": {},
   "outputs": [],
   "source": [
    "from sklearn.metrics import confusion_matrix, accuracy_score, precision_score, recall_score, f1_score"
   ]
  },
  {
   "cell_type": "code",
   "execution_count": 331,
   "id": "aea6c392",
   "metadata": {},
   "outputs": [
    {
     "name": "stdout",
     "output_type": "stream",
     "text": [
      "The Performance of Logistic regression is:\n",
      "\n",
      "Accuracy is: 0.3745\n",
      "Precesion is: 0.3566807371627536\n",
      "Recall is: 0.3745\n",
      "f1_score is: 0.35363864279555524\n"
     ]
    }
   ],
   "source": [
    "print('The Performance of Logistic regression is:\\n')\n",
    "print('Accuracy is:',accuracy_score(y_test,y_pred_log) )# we have to compare y test with y predictions\n",
    "print('Precesion is:',precision_score(y_test,y_pred_log,average='weighted'))\n",
    "print('Recall is:', recall_score(y_test,y_pred_log,average='weighted'))\n",
    "print('f1_score is:',f1_score(y_test,y_pred_log,average='weighted'))"
   ]
  },
  {
   "cell_type": "markdown",
   "id": "ff2d5e25",
   "metadata": {},
   "source": [
    "### 2. KNN classifier"
   ]
  },
  {
   "cell_type": "code",
   "execution_count": 335,
   "id": "b52b1ff1",
   "metadata": {},
   "outputs": [],
   "source": [
    "#importing KNN classifier  from the scikit-learn library\n",
    "from sklearn.neighbors import KNeighborsClassifier # KNN classifier \n",
    "\n",
    "KNN_model = KNeighborsClassifier(n_neighbors=3) # this examines 3 neighbors for putting the data into class\n",
    "KNN_model.fit(X_train, y_train)\n",
    "y_pred_KNN = KNN_model.predict(X_test)"
   ]
  },
  {
   "cell_type": "code",
   "execution_count": 336,
   "id": "df6af6cf",
   "metadata": {},
   "outputs": [
    {
     "name": "stdout",
     "output_type": "stream",
     "text": [
      "The Performance of KNN is:\n",
      "\n",
      "Accuracy is: 0.6003333333333334\n",
      "Precesion is: 0.6075716114304035\n",
      "Recall is: 0.6003333333333334\n",
      "f1_score is: 0.596896483874698\n"
     ]
    }
   ],
   "source": [
    "print('The Performance of KNN is:\\n')\n",
    "print('Accuracy is:',accuracy_score(y_test,y_pred_KNN) )# we have to compare y test with y predictions\n",
    "print('Precesion is:',precision_score(y_test,y_pred_KNN,average='weighted'))\n",
    "print('Recall is:', recall_score(y_test,y_pred_KNN,average='weighted'))\n",
    "print('f1_score is:',f1_score(y_test,y_pred_KNN,average='weighted'))"
   ]
  },
  {
   "cell_type": "markdown",
   "id": "b6b04812",
   "metadata": {},
   "source": [
    "### 3. Decision Tree"
   ]
  },
  {
   "cell_type": "code",
   "execution_count": 350,
   "id": "c92dc0e9",
   "metadata": {},
   "outputs": [],
   "source": [
    "from sklearn.tree import DecisionTreeClassifier # importing DecisionTreeClassifier algorithm\n",
    "\n",
    "DT_model = DecisionTreeClassifier()\n",
    "DT_model.fit(X_train, y_train)\n",
    "y_pred_DT = DT_model.predict(X_test)"
   ]
  },
  {
   "cell_type": "code",
   "execution_count": 351,
   "id": "7a68600f",
   "metadata": {},
   "outputs": [
    {
     "name": "stdout",
     "output_type": "stream",
     "text": [
      "The Performance of DT is:\n",
      "\n",
      "Accuracy is: 0.9158333333333334\n",
      "Precesion is: 0.9170068161154429\n",
      "Recall is: 0.9158333333333334\n",
      "f1_score is: 0.9162575018246569\n"
     ]
    }
   ],
   "source": [
    "print('The Performance of DT is:\\n')\n",
    "print('Accuracy is:',accuracy_score(y_test,y_pred_DT) )# we have to compare y test with y predictions\n",
    "print('Precesion is:',precision_score(y_test,y_pred_DT,average='weighted'))\n",
    "print('Recall is:', recall_score(y_test,y_pred_DT,average='weighted'))\n",
    "print('f1_score is:',f1_score(y_test,y_pred_DT,average='weighted'))"
   ]
  },
  {
   "cell_type": "markdown",
   "id": "e6369124",
   "metadata": {},
   "source": [
    "### 3. Random Forest"
   ]
  },
  {
   "cell_type": "code",
   "execution_count": 337,
   "id": "4c51d227",
   "metadata": {},
   "outputs": [],
   "source": [
    "#Import Random Forest Model from sklearn\n",
    "from sklearn.ensemble import RandomForestClassifier\n",
    "\n",
    "#Create a Gaussian Classifier\n",
    "clf=RandomForestClassifier()\n",
    "\n",
    "#Train the model using the training sets y_pred=clf.predict(X_test)\n",
    "clf.fit(X_train,y_train)\n",
    "\n",
    "y_pred_RF=clf.predict(X_test)\n"
   ]
  },
  {
   "cell_type": "code",
   "execution_count": 354,
   "id": "e3e63c7f",
   "metadata": {},
   "outputs": [
    {
     "name": "stdout",
     "output_type": "stream",
     "text": [
      "The Performance of RF is:\n",
      "\n",
      "Accuracy is: 0.9486666666666667\n",
      "Precesion is: 0.9514582156282916\n",
      "Recall is: 0.9486666666666667\n",
      "f1_score is: 0.9495625771401548\n"
     ]
    }
   ],
   "source": [
    "print('The Performance of RF is:\\n')\n",
    "print('Accuracy is:',accuracy_score(y_test,y_pred_RF) )# we have to compare y test with y predictions\n",
    "print('Precesion is:',precision_score(y_test,y_pred_RF,average='weighted'))\n",
    "print('Recall is:', recall_score(y_test,y_pred_RF,average='weighted'))\n",
    "print('f1_score is:',f1_score(y_test,y_pred_RF,average='weighted'))"
   ]
  },
  {
   "cell_type": "markdown",
   "id": "3f186007",
   "metadata": {},
   "source": [
    "##### -The Maximum accuracy is obtained for Random Forest Classifier.Hence , selected for the prediction of output"
   ]
  },
  {
   "cell_type": "markdown",
   "id": "c8aa5c51",
   "metadata": {},
   "source": [
    "### Prediction of output"
   ]
  },
  {
   "cell_type": "code",
   "execution_count": 340,
   "id": "10eba11f",
   "metadata": {},
   "outputs": [],
   "source": [
    "#Assingning test data to X_input\n",
    "X_input=test\n",
    "y_final=clf.predict(X_input)"
   ]
  },
  {
   "cell_type": "code",
   "execution_count": 359,
   "id": "2d71836c",
   "metadata": {},
   "outputs": [
    {
     "data": {
      "text/plain": [
       "array([13,  7, 17, ..., 13,  7,  1], dtype=int64)"
      ]
     },
     "execution_count": 359,
     "metadata": {},
     "output_type": "execute_result"
    }
   ],
   "source": [
    "y_final # displayong the output in encoded form"
   ]
  },
  {
   "cell_type": "code",
   "execution_count": 360,
   "id": "325ddafe",
   "metadata": {},
   "outputs": [
    {
     "ename": "AttributeError",
     "evalue": "'numpy.ndarray' object has no attribute 'to_csv'",
     "output_type": "error",
     "traceback": [
      "\u001b[1;31m---------------------------------------------------------------------------\u001b[0m",
      "\u001b[1;31mAttributeError\u001b[0m                            Traceback (most recent call last)",
      "\u001b[1;32m<ipython-input-360-848f8ce19a9a>\u001b[0m in \u001b[0;36m<module>\u001b[1;34m\u001b[0m\n\u001b[1;32m----> 1\u001b[1;33m \u001b[0my_final\u001b[0m\u001b[1;33m.\u001b[0m\u001b[0mto_csv\u001b[0m\u001b[1;33m(\u001b[0m\u001b[1;34m'Submission1.csv'\u001b[0m\u001b[1;33m)\u001b[0m\u001b[1;33m\u001b[0m\u001b[1;33m\u001b[0m\u001b[0m\n\u001b[0m",
      "\u001b[1;31mAttributeError\u001b[0m: 'numpy.ndarray' object has no attribute 'to_csv'"
     ]
    }
   ],
   "source": [
    "y_final.to_csv('Submission1.csv')"
   ]
  },
  {
   "cell_type": "code",
   "execution_count": 344,
   "id": "75bda7d6",
   "metadata": {},
   "outputs": [],
   "source": [
    "SUBMISSION=pd.DataFrame(y_final,index=test.index)#creating a dataframe with output\n",
    "\n",
    "SUBMISSION.columns =['vehicle_choice']# column as vehicle_choice\n",
    "\n",
    "#Reassigning the categorical names to the output.\n",
    "SUBMISSION['vehicle_choice'].replace({ 0:'Compact Sedan',1: 'Compact Utility Vehicle',\n",
    "                                      2:'Convertible', 3:'Coupe',4: 'Crossover', \n",
    "                                      5:'Hatchback',6: 'Luxury Coupe', 7:'Luxury Sedan',\n",
    "                                      8:'Minivan', 9:'Pickup-Truck', 10:'Sedan', \n",
    "                                      11:'Sports Coupe', 12:'Sports Sedan', 13:'Sports Utility Vehicle',\n",
    "                                      14:'Sportscar', 15:'Station Wagon',\n",
    "                                      16: 'Utility Vehicle',17:'Utility vehicle'},inplace=True)\n",
    "SUBMISSION.to_csv('Submission.csv')#submission file"
   ]
  },
  {
   "cell_type": "code",
   "execution_count": 259,
   "id": "f8a86bb3",
   "metadata": {},
   "outputs": [
    {
     "data": {
      "text/html": [
       "<div>\n",
       "<style scoped>\n",
       "    .dataframe tbody tr th:only-of-type {\n",
       "        vertical-align: middle;\n",
       "    }\n",
       "\n",
       "    .dataframe tbody tr th {\n",
       "        vertical-align: top;\n",
       "    }\n",
       "\n",
       "    .dataframe thead th {\n",
       "        text-align: right;\n",
       "    }\n",
       "</style>\n",
       "<table border=\"1\" class=\"dataframe\">\n",
       "  <thead>\n",
       "    <tr style=\"text-align: right;\">\n",
       "      <th></th>\n",
       "      <th>vehicle_choice</th>\n",
       "    </tr>\n",
       "    <tr>\n",
       "      <th>CustomerID</th>\n",
       "      <th></th>\n",
       "    </tr>\n",
       "  </thead>\n",
       "  <tbody>\n",
       "    <tr>\n",
       "      <th>CusID_30000</th>\n",
       "      <td>Sports Utility Vehicle</td>\n",
       "    </tr>\n",
       "    <tr>\n",
       "      <th>CusID_30001</th>\n",
       "      <td>Luxury Sedan</td>\n",
       "    </tr>\n",
       "    <tr>\n",
       "      <th>CusID_30002</th>\n",
       "      <td>Utility vehicle</td>\n",
       "    </tr>\n",
       "    <tr>\n",
       "      <th>CusID_30003</th>\n",
       "      <td>Luxury Coupe</td>\n",
       "    </tr>\n",
       "    <tr>\n",
       "      <th>CusID_30004</th>\n",
       "      <td>Hatchback</td>\n",
       "    </tr>\n",
       "    <tr>\n",
       "      <th>...</th>\n",
       "      <td>...</td>\n",
       "    </tr>\n",
       "    <tr>\n",
       "      <th>CusID_34995</th>\n",
       "      <td>Station Wagon</td>\n",
       "    </tr>\n",
       "    <tr>\n",
       "      <th>CusID_34996</th>\n",
       "      <td>Sports Sedan</td>\n",
       "    </tr>\n",
       "    <tr>\n",
       "      <th>CusID_34997</th>\n",
       "      <td>Sports Utility Vehicle</td>\n",
       "    </tr>\n",
       "    <tr>\n",
       "      <th>CusID_34998</th>\n",
       "      <td>Luxury Sedan</td>\n",
       "    </tr>\n",
       "    <tr>\n",
       "      <th>CusID_34999</th>\n",
       "      <td>Compact Utility Vehicle</td>\n",
       "    </tr>\n",
       "  </tbody>\n",
       "</table>\n",
       "<p>5000 rows × 1 columns</p>\n",
       "</div>"
      ],
      "text/plain": [
       "                      vehicle_choice\n",
       "CustomerID                          \n",
       "CusID_30000   Sports Utility Vehicle\n",
       "CusID_30001             Luxury Sedan\n",
       "CusID_30002          Utility vehicle\n",
       "CusID_30003             Luxury Coupe\n",
       "CusID_30004                Hatchback\n",
       "...                              ...\n",
       "CusID_34995            Station Wagon\n",
       "CusID_34996             Sports Sedan\n",
       "CusID_34997   Sports Utility Vehicle\n",
       "CusID_34998             Luxury Sedan\n",
       "CusID_34999  Compact Utility Vehicle\n",
       "\n",
       "[5000 rows x 1 columns]"
      ]
     },
     "execution_count": 259,
     "metadata": {},
     "output_type": "execute_result"
    }
   ],
   "source": [
    "SUBMISSION #output"
   ]
  },
  {
   "cell_type": "code",
   "execution_count": 353,
   "id": "e9261675",
   "metadata": {},
   "outputs": [
    {
     "data": {
      "text/plain": [
       "5"
      ]
     },
     "execution_count": 353,
     "metadata": {},
     "output_type": "execute_result"
    }
   ],
   "source": [
    "round(4.576)"
   ]
  },
  {
   "cell_type": "code",
   "execution_count": 358,
   "id": "db5b4ad5",
   "metadata": {},
   "outputs": [
    {
     "data": {
      "text/plain": [
       "Index(['vehicle_choice'], dtype='object')"
      ]
     },
     "execution_count": 358,
     "metadata": {},
     "output_type": "execute_result"
    }
   ],
   "source": [
    "SUBMISSION.columns"
   ]
  },
  {
   "cell_type": "code",
   "execution_count": null,
   "id": "fe2a5a79",
   "metadata": {},
   "outputs": [],
   "source": []
  }
 ],
 "metadata": {
  "kernelspec": {
   "display_name": "Python 3 (ipykernel)",
   "language": "python",
   "name": "python3"
  },
  "language_info": {
   "codemirror_mode": {
    "name": "ipython",
    "version": 3
   },
   "file_extension": ".py",
   "mimetype": "text/x-python",
   "name": "python",
   "nbconvert_exporter": "python",
   "pygments_lexer": "ipython3",
   "version": "3.9.12"
  }
 },
 "nbformat": 4,
 "nbformat_minor": 5
}
